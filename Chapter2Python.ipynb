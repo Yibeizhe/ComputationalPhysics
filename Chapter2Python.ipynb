{
 "cells": [
  {
   "cell_type": "markdown",
   "metadata": {},
   "source": [
    "# Transfer Strings to Morse Code\n",
    "## Here's to the crazy ones to Morse Code\n",
    "- Created by Junfei Ding 2021-05-06  "
   ]
  },
  {
   "cell_type": "code",
   "execution_count": 2,
   "metadata": {},
   "outputs": [
    {
     "name": "stdout",
     "output_type": "stream",
     "text": [
      "Text to Morse: .... . .-. . .----. ... / - --- / - .... . / -.-. .-. .- --.. -.-- / --- -. . ... .-.-.- - .... . / -- .. ... ..-. .. - ... .-.-.- / - .... . / .-. . -... . .-.. ... .-.-.- / - .... . / - .-. --- ..- -... .-.. . -- .- -.- . .-. ... .-.-.- / - .... . / .-. --- ..- -. -.. / .--. . --. ... / .. -. / - .... . / ... --.- ..- .- .-. . / .... --- .-.. . ... .-.-.- / - .... . / --- -. . ... / .-- .... --- / ... . . / - .... .. -. --. ... / -.. .. ..-. ..-. . .-. . -. - .-.. -.-- .-.-.- / - .... . -.-- .----. .-. . / -. --- - / ..-. --- -. -.. / --- ..-. / .-. ..- .-.. . ... .-.-.- / .- -. -.. / - .... . -.-- / .... .- ...- . / -. --- / .-. . ... .--. . -.-. - / ..-. --- .-. / - .... . / ... - .- - ..- ... / --.- ..- --- .-.-.- / -.-- --- ..- / -.-. .- -. / --.- ..- --- - . / - .... . -- / -.. .. ... .- --. .-. . . / .-- .. - .... / - .... . -- / --. .-.. --- .-. .. ..-. -.-- / --- .-. / ...- .. .-.. .. ..-. -.-- / - .... . -- .-.-.- / .- -... --- ..- - / - .... . / --- -. .-.. -.-- / - .... .. -. --. / -.-- --- ..- / -.-. .- -. .----. - / -.. --- / .. ... / .. --. -. --- .-. . / - .... . -- .-.-.- / -... . -.-. .- ..- ... . / - .... . -.-- / -.-. .... .- -. --. . / - .... .. -. --. ... .-.-.- / - .... . -.-- / .--. ..- ... .... / - .... . / .... ..- -- .- -. / .-. .- -.-. . / ..-. --- .-. .-- .- .-. -.. .-.-.- / .- -. -.. / .-- .... .. .-.. . / ... --- -- . / -- .- -.-- / ... . . / - .... . -- / .- ... / - .... . / -.-. .-. .- --.. -.-- / --- -. . ... / .-- . / ... . . / --. . -. .. ..- ... .-.-.- / -... . -.-. .- ..- ... . / - .... . / .--. . --- .--. .-.. . / .-- .... --- / .- .-. . / -.-. .-. .- --.. -.-- / . -. --- ..- --. .... - --- / - .... .. -. -.- / - .... . -.-- / -.-. .- -. / -.-. .... .- -. --. . / - .... . / .-- --- .-. .-.. -.. / .- .-. . / - .... . / --- -. . ... / .-- .... --- / -.. --- .-.-.-\n",
      "Morse to Text: HERE'S TO THE CRAZY ONES.THE MISFITS. THE REBELS. THE TROUBLEMAKERS. THE ROUND PEGS IN THE SQUARE HOLES. THE ONES WHO SEE THINGS DIFFERENTLY. THEY'RE NOT FOND OF RULES. AND THEY HAVE NO RESPECT FOR THE STATUS QUO. YOU CAN QUOTE THEM DISAGREE WITH THEM GLORIFY OR VILIFY THEM. ABOUT THE ONLY THING YOU CAN'T DO IS IGNORE THEM. BECAUSE THEY CHANGE THINGS. THEY PUSH THE HUMAN RACE FORWARD. AND WHILE SOME MAY SEE THEM AS THE CRAZY ONES WE SEE GENIUS. BECAUSE THE PEOPLE WHO ARE CRAZY ENOUGHTO THINK THEY CAN CHANGE THE WORLD ARE THE ONES WHO DO.\n"
     ]
    }
   ],
   "source": [
    "# Morse dictionary\n",
    "Morse_dic = {\n",
    "    'A': '.-', 'B': '-...', 'C': '-.-.', 'D': '-..', 'E': '.',\n",
    "    'F': '..-.', 'G': '--.', 'H': '....', 'I': '..', 'J': '.---',\n",
    "    'K': '-.-', 'L': '.-..', 'M': '--', 'N': '-.', 'O': '---',\n",
    "    'P': '.--.', 'Q': '--.-', 'R': '.-.', 'S': '...', 'T': '-',\n",
    "    'U': '..-', 'V': '...-', 'W': '.--', 'X': '-..-', 'Y': '-.--',\n",
    "    'Z': '--..',\n",
    "\n",
    "    '1': '.----', '2': '..---', '3': '...--', '4': '....-', \n",
    "    '5': '.....', '6': '-....', '7': '--...', '8': '---..', \n",
    "    '9': '----.', '0': '-----', \n",
    "\n",
    "    ', ': '--..--', '.': '.-.-.-', '?': '..--..', \"'\": '.----.',\n",
    "    '!': '-.-.--', '/': '-..-.', '(': '-.--.', ')': '-.--.-',\n",
    "    '&': '.-...', ':': '---...', ';': '-.-.-.', '=': '-...-',\n",
    "    '+': '.-.-.', '-': '-....-', '_': '..--.-', '\"': '.-..-.',\n",
    "    '$': '...-..-', '@': '.--.-.', ' ': '/'\n",
    "}\n",
    "\n",
    "\n",
    "# transfer text to morse code\n",
    "def text2morse(text):\n",
    "    morse_code_list = []\n",
    "\n",
    "    for c in text:\n",
    "        upper_c = c.upper()\n",
    "        if upper_c in Morse_dic:\n",
    "            morse_code_list.append(Morse_dic[upper_c])\n",
    "\n",
    "    return ' '.join(morse_code_list)\n",
    "\n",
    "# transfer morse to text code\n",
    "def morse2text(morse):\n",
    "    # Create a reversed Morse code dictionary to map Morse codes to characters\n",
    "    Revised_Morse_dic = {value: key for key, value in Morse_dic.items()}\n",
    "    \n",
    "    # Split the input Morse code string into individual codes using space as the delimiter\n",
    "    morse_codes = morse.split(' ')\n",
    "    \n",
    "    # Create a list to store the translated characters\n",
    "    text_chars = []\n",
    "\n",
    "    # Loop through the Morse codes, find the corresponding character for each code and add it to the list\n",
    "    for code in morse_codes:\n",
    "        if code in Revised_Morse_dic:\n",
    "            text_chars.append(Revised_Morse_dic[code])\n",
    "\n",
    "    # Join the list of characters to form the final translated string\n",
    "    return ''.join(text_chars)\n",
    "\n",
    "crazyone=\"Here's to the crazy ones.\\\n",
    "The misfits. The rebels. The troublemakers. \\\n",
    "The round pegs in the square holes. \\\n",
    "The ones who see things differently. \\\n",
    "They're not fond of rules. \\\n",
    "And they have no respect for the status quo. \\\n",
    "You can quote them, disagree with them, glorify or vilify them. \\\n",
    "About the only thing you can't do is ignore them. \\\n",
    "Because they change things. \\\n",
    "They push the human race forward. \\\n",
    "And while some may see them as the crazy ones, \\\n",
    "we see genius. \\\n",
    "Because the people who are crazy enough\\\n",
    "to think they can change the world, are the ones who do.\"\n",
    "\n",
    "morse = text2morse(crazyone)\n",
    "print(f\"Text to Morse: {morse}\")\n",
    "\n",
    "decoded_text = morse2text(morse)\n",
    "print(f\"Morse to Text: {decoded_text}\")"
   ]
  },
  {
   "cell_type": "markdown",
   "metadata": {},
   "source": [
    "# Transfer a decimal number to binary number.\n",
    "- Created by Junfei Ding at 2022-4-20"
   ]
  },
  {
   "cell_type": "code",
   "execution_count": 3,
   "metadata": {},
   "outputs": [
    {
     "name": "stdout",
     "output_type": "stream",
     "text": [
      "Please enter a integal number:89.9\n",
      "The number of  89.9 is 1011001.111001100110011001100110011001100110011001101\n"
     ]
    }
   ],
   "source": [
    "def int2bin(x):\n",
    "    \"\"\"\n",
    "    Transfer a integal number to binary number\n",
    "    \"\"\"\n",
    "    x = int(x)\n",
    "    lists=[]\n",
    "    while x:\n",
    "        lists.append(str(x%2))\n",
    "        x= x // 2\n",
    "    return \"\".join(lists[::-1])\n",
    "\n",
    "def dec2bin(x):\n",
    "    \"\"\"\n",
    "    Transfer a decimal number to binary number\n",
    "    \"\"\"\n",
    "    x-=int(x)\n",
    "    bins=[]\n",
    "    while x:\n",
    "        x*=2\n",
    "        if x>=1:\n",
    "            bins.append(str(1))\n",
    "        else:\n",
    "            bins.append(str(0))\n",
    "        x-=int(x)\n",
    "    return \"\".join(bins)\n",
    "\n",
    "def num2bin(x):\n",
    "    integers=int2bin(x)\n",
    "    decimals=dec2bin(x)\n",
    "    #print(intergers,decimals)\n",
    "    return integers+'.'+decimals\n",
    "\n",
    "x=float(input('Please enter a integal number:'))\n",
    "print('The number of ',x, 'is',num2bin(x))"
   ]
  },
  {
   "cell_type": "markdown",
   "metadata": {},
   "source": [
    "# Letter frequency "
   ]
  },
  {
   "cell_type": "code",
   "execution_count": 4,
   "metadata": {},
   "outputs": [
    {
     "name": "stdout",
     "output_type": "stream",
     "text": [
      "a: 25\n",
      "b: 5\n",
      "c: 12\n",
      "d: 10\n",
      "e: 70\n",
      "f: 9\n",
      "g: 11\n",
      "h: 41\n",
      "i: 17\n",
      "k: 2\n",
      "l: 11\n",
      "m: 10\n",
      "n: 26\n",
      "o: 33\n",
      "p: 5\n",
      "q: 3\n",
      "r: 24\n",
      "s: 29\n",
      "t: 41\n",
      "u: 16\n",
      "v: 2\n",
      "w: 8\n",
      "y: 15\n",
      "z: 3\n"
     ]
    }
   ],
   "source": [
    "def letter_frequency(text):\n",
    "    \"\"\"Calculate the frequency of each letter in the text.\"\"\"\n",
    "\n",
    "    # Create a dictionary to store the frequency of each letter\n",
    "    frequency_dict = {}\n",
    "\n",
    "    # Loop through each character in the text\n",
    "    for char in text:\n",
    "        # Check if the character is an alphabet\n",
    "        if char.isalpha():\n",
    "            # Convert the character to lowercase to ensure case insensitivity\n",
    "            char = char.lower()\n",
    "            \n",
    "            # Increment the frequency count for the character\n",
    "            if char in frequency_dict:\n",
    "                frequency_dict[char] += 1\n",
    "            else:\n",
    "                frequency_dict[char] = 1\n",
    "    \n",
    "    return frequency_dict\n",
    "\n",
    "# Test\n",
    "text = \"Hello, World!\"\n",
    "frequency_dict = letter_frequency(crazyone)\n",
    "for letter, frequency in sorted(frequency_dict.items()):\n",
    "    print(f\"{letter}: {frequency}\")"
   ]
  },
  {
   "cell_type": "code",
   "execution_count": 6,
   "metadata": {},
   "outputs": [
    {
     "name": "stdout",
     "output_type": "stream",
     "text": [
      "e: 70 (16.36%)\n",
      "h: 41 (9.58%)\n",
      "t: 41 (9.58%)\n",
      "o: 33 (7.71%)\n",
      "s: 29 (6.78%)\n",
      "n: 26 (6.07%)\n",
      "a: 25 (5.84%)\n",
      "r: 24 (5.61%)\n",
      "i: 17 (3.97%)\n",
      "u: 16 (3.74%)\n",
      "y: 15 (3.50%)\n",
      "c: 12 (2.80%)\n",
      "l: 11 (2.57%)\n",
      "g: 11 (2.57%)\n",
      "m: 10 (2.34%)\n",
      "d: 10 (2.34%)\n",
      "f: 9 (2.10%)\n",
      "w: 8 (1.87%)\n",
      "b: 5 (1.17%)\n",
      "p: 5 (1.17%)\n",
      "z: 3 (0.70%)\n",
      "q: 3 (0.70%)\n",
      "k: 2 (0.47%)\n",
      "v: 2 (0.47%)\n"
     ]
    }
   ],
   "source": [
    "def letter_frequency(text):\n",
    "    \"\"\"Calculate the frequency of each letter in the text and sort by frequency.\"\"\"\n",
    "    # Create a dictionary to store the frequency of each letter\n",
    "    frequency_dict = {}\n",
    "\n",
    "    # Loop through each character in the text\n",
    "    for char in text:\n",
    "        # Check if the character is an alphabet\n",
    "        if char.isalpha():\n",
    "            # Convert the character to lowercase to ensure case insensitivity\n",
    "            char = char.lower()\n",
    "            \n",
    "            # Increment the frequency count for the character\n",
    "            if char in frequency_dict:\n",
    "                frequency_dict[char] += 1\n",
    "            else:\n",
    "                frequency_dict[char] = 1\n",
    "    \n",
    "    # Calculate total number of letters for percentage calculation\n",
    "    total_letters = sum(frequency_dict.values())\n",
    "\n",
    "    # Sort the dictionary by frequency in descending order\n",
    "    sorted_frequency = sorted(frequency_dict.items(), key=lambda item: item[1], reverse=True)\n",
    "    \n",
    "    # Print each letter with its frequency percentage\n",
    "    for letter, frequency in sorted_frequency:\n",
    "        percentage = (frequency / total_letters) * 100\n",
    "        print(f\"{letter}: {frequency} ({percentage:.2f}%)\")\n",
    "\n",
    "# Test\n",
    "text = \"Hello, World!\"\n",
    "letter_frequency(crazyone)\n"
   ]
  },
  {
   "cell_type": "code",
   "execution_count": null,
   "metadata": {},
   "outputs": [],
   "source": []
  }
 ],
 "metadata": {
  "kernelspec": {
   "display_name": "Python 3",
   "language": "python",
   "name": "python3"
  },
  "language_info": {
   "codemirror_mode": {
    "name": "ipython",
    "version": 3
   },
   "file_extension": ".py",
   "mimetype": "text/x-python",
   "name": "python",
   "nbconvert_exporter": "python",
   "pygments_lexer": "ipython3",
   "version": "3.7.6"
  }
 },
 "nbformat": 4,
 "nbformat_minor": 4
}
