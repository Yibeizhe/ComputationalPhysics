{
 "cells": [
  {
   "cell_type": "code",
   "execution_count": 10,
   "metadata": {},
   "outputs": [
    {
     "name": "stdout",
     "output_type": "stream",
     "text": [
      "The real difference of f(0.5) is: 2.2373281197977843\n",
      "The forward difference of f(0.5) is: 2.251818759341506\n",
      "The backward difference of f(0.5) is: 2.2228812420927335\n",
      "The center difference of f(0.5) is: 2.237333590167445\n"
     ]
    }
   ],
   "source": [
    "from math import sin, cos ,exp\n",
    "import matplotlib.pyplot as plt\n",
    "\n",
    "def f(x):\n",
    "    return sin(x)*exp(x)\n",
    "\n",
    "def f_deriv(x):\n",
    "    return cos(x)*exp(x)+sin(x)*exp(x)\n",
    "\n",
    "# forward-difference\n",
    "def f_forw(f,x,h):\n",
    "    return (f(x+h)-f(x))/h\n",
    "\n",
    "# backward-difference\n",
    "def f_back(f,x,h):\n",
    "    return (f(x)-f(x-h))/h\n",
    "\n",
    "# backward-difference\n",
    "def f_cent(f,x,h):\n",
    "    return (f(x+h/2)-f(x-h/2))/h\n",
    "\n",
    "print(\"The real difference of f(0.5) is:\",f_deriv(0.5))\n",
    "print(\"The forward difference of f(0.5) is:\",f_forw(f,0.5,0.01))\n",
    "print(\"The backward difference of f(0.5) is:\",f_back(f,0.5,0.01))\n",
    "print(\"The center difference of f(0.5) is:\",f_cent(f,0.5,0.01))"
   ]
  },
  {
   "cell_type": "code",
   "execution_count": 1,
   "metadata": {},
   "outputs": [
    {
     "name": "stdout",
     "output_type": "stream",
     "text": [
      "[0.1, 0.01, 0.001, 0.0001, 1e-05, 1e-06, 1e-07, 1e-08, 1e-09, 1e-10] [0.14673771078698383, 0.014490639543721873, 0.0014471077214674999, 0.00014469109203352204, 1.44688978944707e-05, 1.447036527491008e-06, 1.4396776348846174e-07, 3.627613009982156e-08, 1.3025732359395192e-07, 1.923502113143627e-08] [0.142376295367308, 0.01444687770505082, 0.0014466700882418415, 0.00014468671634881858, 1.4468876504469819e-05, 1.4469818307993876e-06, 1.4469022291407896e-07, 1.923502113143627e-08, 9.178728133107938e-08, 1.1294580457565928e-06] [0.0005465755015068297, 5.470369660809382e-06, 5.470394492945729e-08, 5.458224983101445e-10, 5.143885317693275e-12, 1.3918510788357707e-10, 1.471452737433765e-09, 8.132790885184704e-09, 1.923502113143627e-08, 1.1294580457565928e-06]\n"
     ]
    },
    {
     "data": {
      "image/png": "[encoded data removed]",
      "text/plain": [
       "<Figure size 432x288 with 1 Axes>"
      ]
     },
     "metadata": {
      "needs_background": "light"
     },
     "output_type": "display_data"
    }
   ],
   "source": [
    "from math import sin, cos ,exp\n",
    "import matplotlib.pyplot as plt\n",
    "\n",
    "def f(x):\n",
    "    return sin(x)*exp(x)\n",
    "\n",
    "def f_deriv(x):\n",
    "    return cos(x)*exp(x)+sin(x)*exp(x)\n",
    "\n",
    "# forward-difference\n",
    "def f_forw(f,x,h):\n",
    "    return (f(x+h)-f(x))/h\n",
    "\n",
    "# backward-difference\n",
    "def f_back(f,x,h):\n",
    "    return (f(x)-f(x-h))/h\n",
    "\n",
    "# backward-difference\n",
    "def f_cent(f,x,h):\n",
    "    return (f(x+h/2)-f(x-h/2))/h\n",
    "\n",
    "if __name__==\"__main__\":\n",
    "    x=0.5\n",
    "    hs = [10**(-i) for i in range(1, 11)]\n",
    "    fd=f_deriv(x)\n",
    "    fford=[abs(f_forw(f,x,h)-fd) for h in hs]\n",
    "    fback = [abs(f_back(f, x, h) - fd) for h in hs]\n",
    "    fcent = [abs(f_cent(f, x, h) - fd) for h in hs]\n",
    "    print(hs,fford,fback,fcent)\n",
    "    plt.plot(hs,fford,label=\"Forward\")\n",
    "    plt.plot(hs, fback, label=\"Backward\")\n",
    "    plt.plot(hs, fcent, label=\"Center\")\n",
    "    plt.yscale('log')\n",
    "    plt.xscale('log')\n",
    "    plt.legend()\n",
    "    plt.show()"
   ]
  },
  {
   "cell_type": "code",
   "execution_count": null,
   "metadata": {},
   "outputs": [],
   "source": []
  }
 ],
 "metadata": {
  "kernelspec": {
   "display_name": "Python 3",
   "language": "python",
   "name": "python3"
  },
  "language_info": {
   "codemirror_mode": {
    "name": "ipython",
    "version": 3
   },
   "file_extension": ".py",
   "mimetype": "text/x-python",
   "name": "python",
   "nbconvert_exporter": "python",
   "pygments_lexer": "ipython3",
   "version": "3.7.6"
  }
 },
 "nbformat": 4,
 "nbformat_minor": 4
}
