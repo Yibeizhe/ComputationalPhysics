{
 "cells": [
  {
   "cell_type": "code",
   "execution_count": 1,
   "metadata": {},
   "outputs": [
    {
     "name": "stdout",
     "output_type": "stream",
     "text": [
      "0.3 1.8367140864577463\n"
     ]
    }
   ],
   "source": [
    "# Author: Alex Gezerlis\n",
    "# Numerical Methods in Physics with Python (CUP, 2020)\n",
    "\n",
    "from math import pi\n",
    "import numpy as np\n",
    "\n",
    "def f(x):\n",
    "    return np.exp(np.sin(2*x))\n",
    "\n",
    "def generatedata(n,f):\n",
    "    dataxs = 2*pi*np.arange(n)/n\n",
    "    datays = f(dataxs)\n",
    "    return dataxs, datays\n",
    "\n",
    "def computeparams(dataxs,datays):\n",
    "    n = dataxs.size\n",
    "    m = n//2\n",
    "    aparams = np.zeros(m+1)\n",
    "    bparams = np.zeros(m-1)\n",
    "    \n",
    "    for k in range(m+1):\n",
    "        aparams[k] = datays@np.cos(k*dataxs)/m\n",
    "    for k in range(1,m):\n",
    "        bparams[k-1] = datays@np.sin(k*dataxs)/m\n",
    "    return aparams, bparams\n",
    "\n",
    "def triginterp(aparams,bparams,x):\n",
    "    n = aparams.size + bparams.size\n",
    "    m = n//2\n",
    "    val = 0.5*(aparams[0] + aparams[-1]*np.cos(m*x))\n",
    "    for k in range(1,m):\n",
    "        val += aparams[k]*np.cos(k*x)\n",
    "        val += bparams[k-1]*np.sin(k*x)\n",
    "    return val\n",
    "\n",
    "if __name__ == '__main__':\n",
    "    dataxs, datays = generatedata(8, f)\n",
    "    aparams, bparams = computeparams(dataxs, datays)\n",
    "    x = 0.3; pofx = triginterp(aparams, bparams, x)\n",
    "    print(x,pofx)\n"
   ]
  },
  {
   "cell_type": "code",
   "execution_count": null,
   "metadata": {},
   "outputs": [],
   "source": []
  }
 ],
 "metadata": {
  "kernelspec": {
   "display_name": "Python 3",
   "language": "python",
   "name": "python3"
  },
  "language_info": {
   "codemirror_mode": {
    "name": "ipython",
    "version": 3
   },
   "file_extension": ".py",
   "mimetype": "text/x-python",
   "name": "python",
   "nbconvert_exporter": "python",
   "pygments_lexer": "ipython3",
   "version": "3.7.6"
  }
 },
 "nbformat": 4,
 "nbformat_minor": 4
}
