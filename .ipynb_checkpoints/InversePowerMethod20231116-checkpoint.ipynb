{
 "cells": [
  {
   "cell_type": "markdown",
   "metadata": {},
   "source": [
    "# 1. Power Method"
   ]
  },
  {
   "cell_type": "code",
   "execution_count": 5,
   "metadata": {},
   "outputs": [
    {
     "name": "stdout",
     "output_type": "stream",
     "text": [
      "Dominant Eigenvalue and Eigenvector calculated by power method: \n",
      "11.059043366770897 [0.5804071  0.27299206 0.36377388 0.67547872]\n",
      "By numpy: \n",
      "11.059043413934539 [0.58038993 0.27299305 0.36380855 0.6754744 ]\n"
     ]
    }
   ],
   "source": [
    "# Author: Junfei Ding, Guizhou University, Date: 2023-11-13\n",
    "import numpy as np\n",
    "def powerA(A, k=50, tol=1e-6):\n",
    "    # Randomly initialize a vector\n",
    "    x = np.random.rand(A.shape[1])\n",
    "    # Normalize the initial vector\n",
    "    x = x / np.linalg.norm(x)\n",
    "    # Initialize eigenvalue to zero\n",
    "    lambda_old = 0\n",
    "    for i in range(k):\n",
    "        # Matrix-vector multiplication\n",
    "        Ax = np.dot(A, x)\n",
    "        # Normalize the vector\n",
    "        x = Ax / np.linalg.norm(Ax)\n",
    "        # Calculate the Rayleigh quotient for eigenvalue estimation\n",
    "        lambda_new = np.dot(x.T, Ax)\n",
    "        # Check for convergence\n",
    "        if np.abs(lambda_new - lambda_old) < tol:\n",
    "            return lambda_new, x\n",
    "        lambda_old = lambda_new\n",
    "    # If not converged within max_iterations\n",
    "    print(\"Didn't converge within the specified number of iterations.\")\n",
    "    return lambda_new, x\n",
    "if __name__==\"__main__\":\n",
    "    # Example with a 4x4 matrix\n",
    "    A = np.array([\n",
    "        [6, 2, 1, 3],\n",
    "        [2, 3, 1, 1],\n",
    "        [1, 1, 5, 2],\n",
    "        [3, 1, 2, 7]])\n",
    "    eigval, eigvec = powerA(A)\n",
    "    print(\"Dominant Eigenvalue and Eigenvector calculated by power method: \")\n",
    "    print(eigval,eigvec)\n",
    "    print(\"By numpy: \", )\n",
    "    npeigvals, npeigvecs = np.linalg.eig(A)\n",
    "    print(npeigvals[0],npeigvecs[:,0])"
   ]
  },
  {
   "cell_type": "markdown",
   "metadata": {},
   "source": [
    "# 2. Gaussian Elimination with pivoting"
   ]
  },
  {
   "cell_type": "code",
   "execution_count": 6,
   "metadata": {},
   "outputs": [
    {
     "name": "stdout",
     "output_type": "stream",
     "text": [
      "Solution: [ 2.  3. -1.]\n",
      "Numpy:  [ 2.  3. -1.]\n"
     ]
    }
   ],
   "source": [
    "# Author: Junfei Ding, Guizhou University, Date: 2023-10-9\n",
    "import numpy as np\n",
    "def gaussian_pivot(Ai, bi):\n",
    "    \"\"\"\n",
    "    Solve system of linear equations using\n",
    "    Gaussian Elimination with pivoting.\n",
    "\n",
    "    Parameters:\n",
    "    Ai (np.array): Coefficient matrix of size (n, n).\n",
    "    bi (np.array): Vector of constant terms of size (n, ).\n",
    "\n",
    "    Returns:\n",
    "    np.array: Solution vector of size (n, ).\n",
    "    \"\"\"\n",
    "    b = np.copy(bi)\n",
    "    A = np.copy(Ai)\n",
    "    n = len(b)\n",
    "    # Forward elimination\n",
    "    for i in range(n):\n",
    "        max_row = i\n",
    "        for k in range(i + 1, n):\n",
    "            if abs(A[k][i]) > abs(A[max_row][i]):\n",
    "                max_row = k\n",
    "        # Swap rows for pivot\n",
    "        A[i, :], A[max_row, :] = A[max_row, :], A[i, :].copy()\n",
    "        b[i], b[max_row] = b[max_row], b[i]\n",
    "        # Zero out below current row\n",
    "        for k in range(i + 1, n):\n",
    "            coeff = A[k][i] / A[i][i]\n",
    "            b[k] -= coeff * b[i]\n",
    "            A[k, i:] -= coeff * A[i, i:]\n",
    "    # Backward substitution\n",
    "    x = np.zeros(n)\n",
    "    for i in reversed(range(n)):\n",
    "        x[i] = (b[i] - np.dot(A[i, i + 1:], x[i + 1:])) / A[i, i]\n",
    "    return x\n",
    "\n",
    "if __name__ == \"__main__\":\n",
    "    A = np.array([[2, 1, -1],\n",
    "                  [-3, -1, 2],\n",
    "                  [-2, 1, 2]], dtype=float)\n",
    "    b = np.array([8, -11, -3], dtype=float)\n",
    "\n",
    "    x = gaussian_pivot(A, b)\n",
    "    print(\"Solution:\", x)\n",
    "    x = np.linalg.solve(A, b)\n",
    "    print(\"Numpy: \", x)"
   ]
  },
  {
   "cell_type": "markdown",
   "metadata": {},
   "source": [
    "# 3. Inverse power method\n",
    "- 求矩阵的最小特征值和特征向量\n",
    "- $x^{(k)}=A^{-1}x^{(k-1)}$\n",
    "- $Ax^{(k)}=x^{(k-1)}$"
   ]
  },
  {
   "cell_type": "code",
   "execution_count": 11,
   "metadata": {},
   "outputs": [
    {
     "name": "stdout",
     "output_type": "stream",
     "text": [
      "Eigenvalue: 1.9735145512664243\n",
      "Eigenvector: [-0.41544492  0.89181257 -0.03848527  0.17491355]\n"
     ]
    }
   ],
   "source": [
    "import numpy as np\n",
    "\n",
    "def inverse_powerA(A, tol=1e-10, max_iter=1000):\n",
    "    x0= np.random.rand(A.shape[1])\n",
    "    x=x0/np.linalg.norm(x0)\n",
    "    lambda_old=0\n",
    "    for i in range(max_iter):             \n",
    "        # Solve Ay = x for y\n",
    "#         y = np.linalg.solve(A, x)\n",
    "        y = gaussian_pivot(A, x)\n",
    "        x = y / np.linalg.norm(y)\n",
    "        # Rayleigh quotient iteration to approximate the eigenvalue\n",
    "        lambda_min = np.dot(x.T, np.dot(A, x)) / np.dot(x.T, x)\n",
    "        # Check for convergence\n",
    "        if (lambda_min-lambda_old) < tol:\n",
    "            return lambda_min, x\n",
    "        lambda_old=lambda_min\n",
    "    # If not converged within max_iterations\n",
    "    print(\"Power Method did not converge within the specified number of iterations.\")\n",
    "    return lambda_min, x\n",
    "\n",
    "if __name__==\"__main__\":\n",
    "    A = np.array([\n",
    "        [6, 2, 1, 3],\n",
    "        [2, 3, 1, 1],\n",
    "        [1, 1, 5, 2],\n",
    "        [3, 1, 2, 7]\n",
    "    ],dtype=float)\n",
    "    eigenvalue, eigenvector = inverse_powerA(A)\n",
    "\n",
    "    print('Eigenvalue:', eigenvalue)\n",
    "    print('Eigenvector:', eigenvector)"
   ]
  },
  {
   "cell_type": "markdown",
   "metadata": {},
   "source": [
    "# 4. Shift inverse power method\n",
    "- 2023/11/16 00:18"
   ]
  },
  {
   "cell_type": "code",
   "execution_count": 38,
   "metadata": {},
   "outputs": [
    {
     "name": "stdout",
     "output_type": "stream",
     "text": [
      "Eigenvalue: 4.442151979087459\n",
      "Eigenvector: [ 0.59796432  0.17926899 -0.76105552 -0.17634   ]\n"
     ]
    }
   ],
   "source": [
    "import numpy as np\n",
    "# from gaussianpivot import gaussian_pivot\n",
    "def ShiftPower(A, sigma, tol=1e-8, max_iter=1000):\n",
    "    \"\"\"\n",
    "    Parameters\n",
    "    ----------\n",
    "    A : ndarray, shape (n,n)\n",
    "        Input matrix\n",
    "    x0 : ndarray, shape (n,)\n",
    "        Initial guess for the eigenvector\n",
    "    sigma : float\n",
    "        The shift value\n",
    "    tol : float, optional\n",
    "        Convergence tolerance\n",
    "    max_iter : int, optional\n",
    "        Maximum number of iterations\n",
    "\n",
    "    Returns\n",
    "    -------\n",
    "    lambda_min : float\n",
    "        Eigenvalue closest to sigma\n",
    "    v : ndarray, shape (n,)\n",
    "        Corresponding eigenvector\n",
    "    \"\"\"\n",
    "    x0 = np.random.rand(A.shape[0])\n",
    "    x = x0 / np.linalg.norm(x0)\n",
    "    I = np.eye(A.shape[0])\n",
    "    B = A - sigma * I  # Shifted matrix\n",
    "\n",
    "    for i in range(max_iter):\n",
    "        # y = np.linalg.solve(B, x)\n",
    "        y=gaussian_pivot(B, x)\n",
    "        x = y / np.linalg.norm(y)\n",
    "        # Rayleigh quotient to approximate the eigenvalue\n",
    "        lambda_min = np.dot(x.T, np.dot(A, x)) / np.dot(x.T, x)\n",
    "        # Check for convergence\n",
    "        if np.linalg.norm(np.dot(B, x) - (lambda_min - sigma) * x) < tol:\n",
    "            break\n",
    "    else:\n",
    "        raise ValueError(f\"Failed to converge within {max_iter} iterations\")\n",
    "\n",
    "    return lambda_min, x\n",
    "\n",
    "if __name__==\"__main__\":\n",
    "    # Usage\n",
    "#     A = np.array([[6, 2, 1], [2, 3, 1], [1, 1, 1]])\n",
    "    A = np.array([\n",
    "        [6, 2, 1, 3],\n",
    "        [2, 3, 1, 1],\n",
    "        [1, 1, 5, 2],\n",
    "        [3, 1, 2, 7]])\n",
    "    sigma = 5  # Chosen shift value\n",
    "    eigenvalue, eigenvector = ShiftPower(A, sigma)\n",
    "    npeigenval,npeigenvec=np.linalg.eig(A)\n",
    "#     print(npeigenval,npeigenvec)\n",
    "\n",
    "    print('Eigenvalue:', eigenvalue)\n",
    "    print('Eigenvector:', eigenvector)"
   ]
  },
  {
   "cell_type": "markdown",
   "metadata": {},
   "source": [
    "# 5. The second dominant eigenvalue\n",
    "## 5.1  Doesn't work 2023/11/16 00:26"
   ]
  },
  {
   "cell_type": "code",
   "execution_count": 19,
   "metadata": {},
   "outputs": [
    {
     "name": "stdout",
     "output_type": "stream",
     "text": [
      "First Eigenvalue and Eigenvector:\n",
      "11.059039177467545 [0.58089904 0.27319429 0.36327486 0.67524259]\n",
      "Second Eigenvalue and Eigenvector:\n",
      "11.05904337862281 [-0.58034503 -0.27297765 -0.36386164 -0.6754906 ]\n"
     ]
    }
   ],
   "source": [
    "import numpy as np\n",
    "\n",
    "# Define matrix A\n",
    "A = np.array([\n",
    "    [6, 2, 1, 3],\n",
    "    [2, 3, 1, 1],\n",
    "    [1, 1, 5, 2],\n",
    "    [3, 1, 2, 7]\n",
    "])\n",
    "\n",
    "# Define the power method\n",
    "def powermethod(A, x, k=50, tol=1e-4):\n",
    "    x = x / np.linalg.norm(x)\n",
    "    lambda_old = 0\n",
    "    for i in range(k):\n",
    "        x = x / np.linalg.norm(x)\n",
    "        Ax = np.dot(A, x)\n",
    "        lambda_new = np.dot(x.T, Ax)\n",
    "        if np.abs(lambda_new - lambda_old) < tol:\n",
    "            return lambda_new, x\n",
    "        lambda_old = lambda_new\n",
    "        x = Ax\n",
    "    return lambda_new, x\n",
    "\n",
    "# Random initial vector\n",
    "X = np.random.rand(A.shape[0], A.shape[1])\n",
    "\n",
    "# Compute the first eigenvalue and eigenvector\n",
    "lambda0, eigvec0 = powermethod(A, X[:,0])\n",
    "\n",
    "# Orthogonalize the second initial vector using the Gram-Schmidt process\n",
    "x1 = X[:,1] - np.dot(np.dot(X[:,1], eigvec0)/np.dot(eigvec0,eigvec0), eigvec0)\n",
    "x1 = x1 / np.linalg.norm(x1)\n",
    "\n",
    "# Compute the second eigenvalue and eigenvector\n",
    "lambda1, eigvec1 = powermethod(A, x1, k=500, tol=1e-6)\n",
    "\n",
    "# Output the results\n",
    "print(\"First Eigenvalue and Eigenvector:\")\n",
    "print(lambda0, eigvec0)\n",
    "print(\"Second Eigenvalue and Eigenvector:\")\n",
    "print(lambda1, eigvec1)\n"
   ]
  },
  {
   "cell_type": "markdown",
   "metadata": {},
   "source": [
    "## 5.2 Second $\\lambda$ Works: orthogonalization at each step\n",
    "- 2023/11/16"
   ]
  },
  {
   "cell_type": "code",
   "execution_count": 22,
   "metadata": {
    "scrolled": true
   },
   "outputs": [
    {
     "data": {
      "text/plain": [
       "(20.849188965351146,\n",
       " array([0.92506773, 0.28620508, 0.24967249]),\n",
       " 15.727835028624082,\n",
       " array([-0.3593512 ,  0.87236532,  0.33142941]))"
      ]
     },
     "execution_count": 22,
     "metadata": {},
     "output_type": "execute_result"
    }
   ],
   "source": [
    "\n",
    "import numpy as np\n",
    "# Define a symmetric matrix I with larger eigenvalue differences\n",
    "A = np.array([\n",
    "    [20, 1, 2],\n",
    "    [1, 15, 3],\n",
    "    [2, 3, 10]\n",
    "])\n",
    "\n",
    "# Modified power method with higher precision and orthogonalization at each step\n",
    "def powermethod_orthogonalized(I, x, v, k=1000, tol=1e-10):\n",
    "    x = x / np.linalg.norm(x)\n",
    "    lambda_old = 0\n",
    "    for i in range(k):\n",
    "        # Orthogonalize if v is not a zero vector\n",
    "        if np.linalg.norm(v) > 0:\n",
    "            x = x - np.dot(v, x) / np.dot(v, v) * v\n",
    "        x = x / np.linalg.norm(x)\n",
    "\n",
    "        Ix = np.dot(I, x)\n",
    "        lambda_new = np.dot(x.T, Ix)\n",
    "        if np.abs(lambda_new - lambda_old) < tol:\n",
    "            return lambda_new, x\n",
    "        lambda_old = lambda_new\n",
    "        x = Ix\n",
    "    return lambda_new, x\n",
    "\n",
    "# Random initial vector\n",
    "Vs = np.random.rand(A.shape[0], A.shape[1])\n",
    "\n",
    "# Compute the first eigenvalue and eigenvector\n",
    "lambda0_I, eigvec0_I = powermethod_orthogonalized(A, Vs[:,0], np.zeros(Vs[:,0].shape))\n",
    "\n",
    "# Use the power method with orthogonalization \n",
    "#against the first eigenvector to compute \n",
    "#the second principal eigenvalue\n",
    "lambda1_I, eigvec1_I = powermethod_orthogonalized(A, Vs[:,1], eigvec0_I)\n",
    "\n",
    "# Output the results\n",
    "lambda0_I, eigvec0_I, lambda1_I, eigvec1_I\n"
   ]
  },
  {
   "cell_type": "markdown",
   "metadata": {},
   "source": [
    "# 6 QR decompose of a matrix\n",
    "- 2023/11/16 00:44"
   ]
  },
  {
   "cell_type": "markdown",
   "metadata": {},
   "source": [
    "## 6.2 Orthogonalize matrix A by Gram-Schmidt method "
   ]
  },
  {
   "cell_type": "code",
   "execution_count": 24,
   "metadata": {},
   "outputs": [
    {
     "name": "stdout",
     "output_type": "stream",
     "text": [
      "Orthogonalized Matrix Q:\n",
      " [[ 0.93704257 -0.34242719 -0.06851887]\n",
      " [ 0.31234752  0.90957224 -0.27407548]\n",
      " [ 0.15617376  0.2354187   0.95926419]]\n",
      "Is Q orthogonal? True\n"
     ]
    }
   ],
   "source": [
    "# Author: Junfei Ding, Guizhou University, Date: 2023-11-06\n",
    "import numpy as np\n",
    "def gram_schmidt(A):\n",
    "    \"\"\"\n",
    "    Applies the Gram-Schmidt method to matrix A to\n",
    "    orthogonalize its rows.\n",
    "    Parameters:\n",
    "    - A (numpy.ndarray): The matrix to be orthogonalized.\n",
    "    Returns:\n",
    "    - Q (numpy.ndarray): The orthogonalized matrix.\n",
    "    \"\"\"\n",
    "    m, n = A.shape\n",
    "    Q = np.zeros((m, n))\n",
    "    for j in range(n):\n",
    "        # Start with the j-th column of A\n",
    "        v = A[:, j]\n",
    "        for i in range(j):\n",
    "            # Subtract the projection of A[:, j]\n",
    "            # onto the i-th column of Q\n",
    "            v = v - np.dot(Q[:, i], A[:, j]) * Q[:, i]\n",
    "        # Normalize the resulting vector\n",
    "        Q[:, j] = v / np.linalg.norm(v)\n",
    "    return Q\n",
    "\n",
    "def is_orthogonal(Q):\n",
    "    \"\"\"\n",
    "    Check if the columns of matrix Q are orthogonal and normalized.\n",
    "    Args:\n",
    "    - Q (numpy.ndarray): The matrix to be verified.\n",
    "    Returns:\n",
    "    - bool: True if the columns of Q are orthogonal and normalized, False otherwise.\n",
    "    \"\"\"\n",
    "    m, n = Q.shape\n",
    "    for i in range(n):\n",
    "        for j in range(n):\n",
    "            dot_product = np.dot(Q[:, i], Q[:, j])\n",
    "            if i != j and not np.isclose(dot_product, 0):\n",
    "                # Columns are not orthogonal\n",
    "                return False\n",
    "            elif i == j and not np.isclose(dot_product, 1):\n",
    "                # Columns are not normalized\n",
    "                return False\n",
    "    return True\n",
    "\n",
    "if __name__==\"__main__\":\n",
    "    A = np.array([[6, 2, 1],\n",
    "                  [2, 3, 1],\n",
    "                  [1, 1, 1]])\n",
    "    # Orthogonalize the matrix A\n",
    "    Q = gram_schmidt(A)\n",
    "    print(\"Orthogonalized Matrix Q:\\n\", Q)\n",
    "\n",
    "    # Verify if the matrix Q is orthogonal\n",
    "    print(\"Is Q orthogonal?\", is_orthogonal(Q))"
   ]
  },
  {
   "cell_type": "markdown",
   "metadata": {},
   "source": [
    "## 6.2 QR decompose"
   ]
  },
  {
   "cell_type": "code",
   "execution_count": 25,
   "metadata": {},
   "outputs": [
    {
     "name": "stdout",
     "output_type": "stream",
     "text": [
      "Matrix Q (orthogonal):\n",
      "[[ 0.93704257 -0.34242719 -0.06851887]\n",
      " [ 0.31234752  0.90957224 -0.27407548]\n",
      " [ 0.15617376  0.2354187   0.95926419]]\n",
      "Is Q orthogonal? True\n",
      "Matrix R (upper triangular):\n",
      "[[6.40312424 2.96730148 1.40556386]\n",
      " [0.         2.27928102 0.80256374]\n",
      " [0.         0.         0.61666984]]\n",
      "np.dot(Q,R) is:\n",
      " [[6. 2. 1.]\n",
      " [2. 3. 1.]\n",
      " [1. 1. 1.]]\n"
     ]
    }
   ],
   "source": [
    "# Author: Junfei Ding, Guizhou University, Date: 2023-11-06\n",
    "import numpy as np\n",
    "# from GramSchmidt import is_orthogonal\n",
    "def QR(A):\n",
    "    \"\"\"\n",
    "    Perform QR decomposition of matrix A using the Gram-Schmidt process.\n",
    "    Args:\n",
    "    - A (numpy.ndarray): The matrix to be decomposed.\n",
    "    Returns:\n",
    "    - Q (numpy.ndarray): The orthogonal matrix.\n",
    "    - R (numpy.ndarray): The upper triangular matrix.\n",
    "    \"\"\"\n",
    "    m, n = A.shape\n",
    "    Q = np.zeros((m, n))\n",
    "    R = np.zeros((n, n))\n",
    "\n",
    "    for j in range(n):\n",
    "        # Start with the j-th column of A\n",
    "        v = A[:, j]\n",
    "        for i in range(j):\n",
    "            # Compute the dot product\n",
    "            R[i, j] = np.dot(Q[:, i], A[:, j])\n",
    "            # Subtract the projection of A[:, j]\n",
    "            # onto the i-th column of Q from v\n",
    "            v = v - R[i, j] * Q[:, i]\n",
    "\n",
    "        # Compute the norm of vector v\n",
    "        R[j, j] = np.linalg.norm(v)\n",
    "        # Normalize the vector to get the j-th column of Q\n",
    "        Q[:, j] = v / R[j, j]\n",
    "    return Q, R\n",
    "\n",
    "if __name__==\"__main__\":\n",
    "\n",
    "    # Example usage:\n",
    "    A = np.array([[6, 2, 1],\n",
    "                  [2, 3, 1],\n",
    "                  [1, 1, 1]])\n",
    "\n",
    "    Q, R = QR(A)\n",
    "    print(\"Matrix Q (orthogonal):\")\n",
    "    print(Q)\n",
    "    print(\"Is Q orthogonal?\",is_orthogonal(Q))\n",
    "    print(\"Matrix R (upper triangular):\")\n",
    "    print(R)\n",
    "    print(\"np.dot(Q,R) is:\\n\",np.dot(Q,R))\n"
   ]
  },
  {
   "cell_type": "markdown",
   "metadata": {},
   "source": [
    "# 7. Simultaneous iteration\n",
    "- 2023/11/16 00:48"
   ]
  },
  {
   "cell_type": "code",
   "execution_count": 29,
   "metadata": {},
   "outputs": [
    {
     "name": "stdout",
     "output_type": "stream",
     "text": [
      "27.440845468024488\n"
     ]
    },
    {
     "data": {
      "text/plain": [
       "(array([20.84918897, 15.72783503,  8.42297601]),\n",
       " array([[ 0.92506631,  0.35935513, -0.122948  ],\n",
       "        [ 0.28620852, -0.87236327, -0.3963168 ],\n",
       "        [ 0.24967379, -0.33143056,  0.90984437]]))"
      ]
     },
     "execution_count": 29,
     "metadata": {},
     "output_type": "execute_result"
    }
   ],
   "source": [
    "import numpy as np\n",
    "\n",
    "def simultaneous_iteration(A, num_iters=100, tol=1e-10):\n",
    "    \"\"\"Simultaneous Iteration method \n",
    "    with manual convergence check for \n",
    "    calculating eigenvalues and eigenvectors.\"\"\"\n",
    "    n = A.shape[0]\n",
    "    Z = np.random.rand(n, n)  # Initialize Z^(0) with random values\n",
    "\n",
    "    def frobenius_norm(matrix):\n",
    "        \"\"\"Calculate the Frobenius norm of a matrix manually.\"\"\"\n",
    "        return np.sqrt(np.sum(matrix**2))\n",
    "\n",
    "    for i in range(num_iters):\n",
    "#         Q, R = np.linalg.qr(Z)  # QR decomposition of Z\n",
    "        Q,R=QR(Z)\n",
    "        Z_next = np.dot(A, Q)  # Multiply A with Q to get new Z\n",
    "\n",
    "        # Manual convergence check\n",
    "        if frobenius_norm(Z_next - Z) < tol:\n",
    "            break\n",
    "\n",
    "        Z = Z_next\n",
    "\n",
    "    # The columns of Q are the approximations of the eigenvectors\n",
    "    eigenvalues = np.diag(R)\n",
    "    eigenvectors = Q\n",
    "    return eigenvalues, eigenvectors\n",
    "\n",
    "# Define matrix A\n",
    "A = np.array([\n",
    "    [20, 1, 2],\n",
    "    [1, 15, 3],\n",
    "    [2, 3, 10]\n",
    "])\n",
    "print(np.sqrt(np.sum(A**2)))\n",
    "# Calculate eigenvalues and eigenvectors using simultaneous iteration with manual convergence check\n",
    "eigvals, eigvecs = simultaneous_iteration(A)\n",
    "\n",
    "# Output\n",
    "eigvals, eigvecs\n"
   ]
  },
  {
   "cell_type": "markdown",
   "metadata": {},
   "source": [
    "# 8. QR method"
   ]
  },
  {
   "cell_type": "code",
   "execution_count": 40,
   "metadata": {
    "scrolled": true
   },
   "outputs": [
    {
     "name": "stdout",
     "output_type": "stream",
     "text": [
      " \n",
      "[11.05904341  1.78856452  4.44215198  3.71024009]\n"
     ]
    }
   ],
   "source": [
    "import numpy as np\n",
    "\n",
    "def qrmet(inA,kmax=100):\n",
    "    A = np.copy(inA)\n",
    "    for k in range(1,kmax):\n",
    "        Q, R = QR(A)\n",
    "        A = R@Q\n",
    "#         print(k, np.diag(A))\n",
    "\n",
    "    qreigvals = np.diag(A)\n",
    "    return qreigvals\n",
    "\n",
    "if __name__ == '__main__':\n",
    "    A = np.array([\n",
    "    [6, 2, 1, 3],\n",
    "    [2, 3, 1, 1],\n",
    "    [1, 1, 5, 2],\n",
    "    [3, 1, 2, 7]])\n",
    "    qreigvals = qrmet(A,10)\n",
    "    print(\" \")\n",
    "    npeigvals, npeigvecs = np.linalg.eig(A); \n",
    "    print(npeigvals)"
   ]
  },
  {
   "cell_type": "markdown",
   "metadata": {},
   "source": [
    "# 9 All eigenvalues and eigenvectors by QR methods"
   ]
  },
  {
   "cell_type": "code",
   "execution_count": 43,
   "metadata": {},
   "outputs": [
    {
     "name": "stdout",
     "output_type": "stream",
     "text": [
      "[11.05904341  4.44215198  3.71024009  1.78856452]\n",
      "[11.05904341  1.78856452  4.44215198  3.71024009]\n",
      " \n",
      "[-0.58038993 -0.27299305 -0.36380855 -0.6754744 ]\n",
      "[0.58038993 0.27299305 0.36380855 0.6754744 ]\n",
      " \n",
      "[-0.59796432 -0.17926899  0.76105552  0.17634   ]\n",
      "[ 0.48251507 -0.81659722  0.23578039 -0.21155568]\n",
      " \n",
      "[-0.26975065 -0.4759269  -0.48254061  0.68401954]\n",
      "[-0.59796432 -0.17926899  0.76105552  0.17634   ]\n",
      " \n",
      "[-0.48251507  0.81659722 -0.23578039  0.21155568]\n",
      "[-0.26975065 -0.4759269  -0.48254061  0.68401954]\n",
      " \n"
     ]
    }
   ],
   "source": [
    "import numpy as np\n",
    "\n",
    "def eig(A,eps=1.e-12):\n",
    "    n = A.shape[0]\n",
    "    eigvals = np.zeros(n)\n",
    "    eigvecs = np.zeros((n,n))\n",
    "    qreigvals = qrmet(A)\n",
    "    for i, qre in enumerate(qreigvals):\n",
    "        eigvals[i], eigvecs[:,i] = ShiftPower(A,qre+eps)\n",
    "    return eigvals, eigvecs\n",
    "\n",
    "if __name__ == '__main__':\n",
    "    A = np.array([\n",
    "    [6, 2, 1, 3],\n",
    "    [2, 3, 1, 1],\n",
    "    [1, 1, 5, 2],\n",
    "    [3, 1, 2, 7]])\n",
    "    eigvals,eigvecs = eig(A)\n",
    "    npeigvals, npeigvecs = np.linalg.eig(A)\n",
    "    print(eigvals); print(npeigvals)\n",
    "    print(\" \")\n",
    "    for eigvec, npeigvec in zip(eigvecs.T,npeigvecs.T):\n",
    "        print(eigvec); print(npeigvec)\n",
    "        print(\" \")"
   ]
  },
  {
   "cell_type": "markdown",
   "metadata": {},
   "source": [
    " # Rayleigh Quotient Iteration (RQI) method\n",
    "    - The Rayleigh Quotient Iteration (RQI) method is an iterative algorithm for finding an eigenvalue and corresponding eigenvector of a matrix. The method uses the Rayleigh quotient to estimate the eigenvalue at each iteration, and employs a shift to accelerate convergence. "
   ]
  },
  {
   "cell_type": "code",
   "execution_count": 4,
   "metadata": {},
   "outputs": [
    {
     "name": "stdout",
     "output_type": "stream",
     "text": [
      "Eigenvalue: 7.287992138960421\n",
      "Eigenvector: [0.86643225 0.45305757 0.20984279]\n"
     ]
    }
   ],
   "source": [
    "import numpy as np\n",
    "\n",
    "def rayleigh_quotient_iteration(A, x0, tol=1e-10, max_iter=1000):\n",
    "    \"\"\"\n",
    "    Parameters\n",
    "    ----------\n",
    "    A : ndarray, shape (n,n)\n",
    "        Input matrix\n",
    "    x0 : ndarray, shape (n,)\n",
    "        Initial guess for the eigenvector\n",
    "    tol : float, optional\n",
    "        Convergence tolerance\n",
    "    max_iter : int, optional\n",
    "        Maximum number of iterations\n",
    "\n",
    "    Returns\n",
    "    -------\n",
    "    lambda_ : float\n",
    "        Converged eigenvalue\n",
    "    x : ndarray, shape (n,)\n",
    "        Corresponding eigenvector\n",
    "    \"\"\"\n",
    "    x = x0 / np.linalg.norm(x0)\n",
    "    I = np.eye(A.shape[0])\n",
    "\n",
    "    for i in range(max_iter):\n",
    "        # Compute the Rayleigh quotient\n",
    "        lambda_ = np.dot(x.T, np.dot(A, x)) / np.dot(x.T, x)\n",
    "        # Update the shift\n",
    "        B = A - lambda_ * I\n",
    "        try:\n",
    "            # Solve (A - lambda I) y = x for y\n",
    "            y = np.linalg.solve(B, x)\n",
    "        except np.linalg.LinAlgError:\n",
    "            raise ValueError(\"Matrix B is singular\")\n",
    "        # Re normalize the vector y to get x\n",
    "        x = y / np.linalg.norm(y)\n",
    "        # Check for convergence\n",
    "        if np.linalg.norm(np.dot(B, x)) < tol:\n",
    "            break\n",
    "    else:\n",
    "        raise ValueError(f\"Failed to converge within {max_iter} iterations\")\n",
    "\n",
    "    return lambda_, x\n",
    "\n",
    "# Usage\n",
    "A = np.array([[6, 2, 1], [2, 3, 1], [1, 1, 1]])\n",
    "x0 = np.random.rand(3)\n",
    "eigenvalue, eigenvector = rayleigh_quotient_iteration(A, x0)\n",
    "\n",
    "print('Eigenvalue:', eigenvalue)\n",
    "print('Eigenvector:', eigenvector)"
   ]
  },
  {
   "cell_type": "code",
   "execution_count": null,
   "metadata": {},
   "outputs": [],
   "source": []
  }
 ],
 "metadata": {
  "kernelspec": {
   "display_name": "Python 3",
   "language": "python",
   "name": "python3"
  },
  "language_info": {
   "codemirror_mode": {
    "name": "ipython",
    "version": 3
   },
   "file_extension": ".py",
   "mimetype": "text/x-python",
   "name": "python",
   "nbconvert_exporter": "python",
   "pygments_lexer": "ipython3",
   "version": "3.7.6"
  }
 },
 "nbformat": 4,
 "nbformat_minor": 4
}
