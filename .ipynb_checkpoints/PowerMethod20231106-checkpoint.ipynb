{
 "cells": [
  {
   "cell_type": "markdown",
   "metadata": {},
   "source": [
    "# Power method"
   ]
  },
  {
   "cell_type": "code",
   "execution_count": 1,
   "metadata": {},
   "outputs": [],
   "source": [
    "def mag(xs):\n",
    "    return np.sqrt(np.sum(xs*xs))\n",
    "\n",
    "def power(A,kmax=6):\n",
    "    zs = np.ones(A.shape[0])\n",
    "    qs = zs/mag(zs)\n",
    "    for k in range(1,kmax):\n",
    "        zs = A@qs\n",
    "        qs = zs/mag(zs)\n",
    "        print(k,qs)\n",
    "\n",
    "    lam = qs@A@qs\n",
    "    return lam, qs"
   ]
  },
  {
   "cell_type": "code",
   "execution_count": 4,
   "metadata": {},
   "outputs": [
    {
     "name": "stdout",
     "output_type": "stream",
     "text": [
      "Dominant Eigenvalue: 11.059043376372466\n",
      "Dominant Eigenvector: [0.58037295 0.27298931 0.363833   0.67547733]\n",
      " \n",
      "11.059043413934539\n",
      "[0.58038993 0.27299305 0.36380855 0.6754744 ]\n"
     ]
    }
   ],
   "source": [
    "import numpy as np\n",
    "\n",
    "def power_method_with_rayleigh(A, max_iterations=1000, tol=1e-6):\n",
    "    \"\"\"\n",
    "    Estimate the dominant eigenvalue and corresponding eigenvector of a matrix using the Power Method \n",
    "    with the Rayleigh quotient for improved accuracy.\n",
    "    \n",
    "    Parameters:\n",
    "    - A (numpy.ndarray): A square matrix for which the dominant eigenvalue and eigenvector are to be estimated.\n",
    "    - max_iterations (int): The maximum number of iterations to perform. Default is 1000.\n",
    "    - tol (float): The tolerance for convergence. If the change in the Rayleigh quotient between iterations \n",
    "      is less than this value, the function returns the current estimates. Default is 1e-6.\n",
    "\n",
    "    Returns:\n",
    "    - lambda_new (float): The estimated dominant eigenvalue of the matrix.\n",
    "    - x (numpy.ndarray): The estimated eigenvector corresponding to the dominant eigenvalue. \n",
    "\n",
    "    Note:\n",
    "    The function prints a message and returns the current estimates if the specified number of \n",
    "    max_iterations is reached without convergence.\n",
    "    \"\"\"\n",
    "    \n",
    "    # Randomly initialize a vector\n",
    "    x = np.random.rand(A.shape[1])\n",
    "    \n",
    "    # Normalize the initial vector\n",
    "    x = x / np.linalg.norm(x)\n",
    "    \n",
    "    # Initialize eigenvalue to zero\n",
    "    lambda_old = 0\n",
    "    \n",
    "    for i in range(max_iterations):\n",
    "        # Matrix-vector multiplication\n",
    "        Ax = np.dot(A, x)\n",
    "        \n",
    "        # Calculate the Rayleigh quotient for eigenvalue estimation\n",
    "        lambda_new = np.dot(x.T, Ax) / np.dot(x.T, x)\n",
    "        \n",
    "        # Normalize the vector\n",
    "        x = Ax / np.linalg.norm(Ax)\n",
    "        \n",
    "        # Check for convergence\n",
    "        if np.abs(lambda_new - lambda_old) < tol:\n",
    "            return lambda_new, x\n",
    "        \n",
    "        lambda_old = lambda_new\n",
    "\n",
    "    # If not converged within max_iterations\n",
    "    print(\"Power Method did not converge within the specified number of iterations.\")\n",
    "    return lambda_new, x\n",
    "\n",
    "# Example with a 4x4 matrix\n",
    "A = np.array([\n",
    "    [6, 2, 1, 3],\n",
    "    [2, 3, 1, 1],\n",
    "    [1, 1, 5, 2],\n",
    "    [3, 1, 2, 7]\n",
    "])\n",
    "eigenvalue, eigenvector = power_method_with_rayleigh(A)\n",
    "print(\"Dominant Eigenvalue:\", eigenvalue)\n",
    "print(\"Dominant Eigenvector:\", eigenvector)\n",
    "npeigvals, npeigvecs = np.linalg.eig(A)\n",
    "indx=0\n",
    "print(\" \")\n",
    "print(npeigvals[indx]); print(npeigvecs[:,indx])"
   ]
  },
  {
   "cell_type": "code",
   "execution_count": null,
   "metadata": {},
   "outputs": [],
   "source": []
  }
 ],
 "metadata": {
  "kernelspec": {
   "display_name": "Python 3",
   "language": "python",
   "name": "python3"
  },
  "language_info": {
   "codemirror_mode": {
    "name": "ipython",
    "version": 3
   },
   "file_extension": ".py",
   "mimetype": "text/x-python",
   "name": "python",
   "nbconvert_exporter": "python",
   "pygments_lexer": "ipython3",
   "version": "3.7.6"
  }
 },
 "nbformat": 4,
 "nbformat_minor": 4
}
