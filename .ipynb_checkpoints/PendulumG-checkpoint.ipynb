{
 "cells": [
  {
   "cell_type": "markdown",
   "id": "c50099d0-9527-44ae-850b-f00a2692d36e",
   "metadata": {},
   "source": [
    "# Measure g by Pendulum\r\n",
    "\r\n",
    "Author: Junfei Ding  \r\n",
    "Date: March 29, 2024  \r\n",
    "Affiliation: GZU\r\n",
    "\r\n",
    "The formula to calculate the gravitational acceleration \\(g\\) using a simple pendulum is given<p style=\"font-size:20px; color:blue\">\r\n",
    "$$\r\n",
    "g = \\frac{4\\pi^2l}{T^2}\r\n",
    "$$\r\n",
    "<p>\r\n",
    "}{T^2}\r\n",
    "$$\r\n",
    "\r\n",
    "Where:  \r\n",
    "- \\(l\\) is the length of the pendulum  \r\n",
    "- \\(T\\) is the period of the pendulum\r\n"
   ]
  },
  {
   "cell_type": "code",
   "execution_count": 12,
   "id": "54ff5c6d-7dae-4db8-b031-6707adb1465c",
   "metadata": {},
   "outputs": [
    {
     "name": "stdout",
     "output_type": "stream",
     "text": [
      "9.862674711789651\n"
     ]
    }
   ],
   "source": [
    "import numpy as np\n",
    "\n",
    "# Given time measurements for multiple oscillations\n",
    "times1 = [16.7, 16.44, 16.83, 16.57, 16.65]\n",
    "times2 = [11.71, 11.94, 11.51, 11.64, 11.53]\n",
    "\n",
    "# Pendulum lengths in meters\n",
    "L1 = 0.708\n",
    "L2 = 0.34\n",
    "\n",
    "# Calculate average period\n",
    "average_time = sum(times2) / len(times2)\n",
    "period = average_time / 10  # Dividing by number of oscillations\n",
    "\n",
    "# Calculate gravitational acceleration g\n",
    "g = (4 * np.pi**2 * L2) / period**2\n",
    "\n",
    "# Print the calculated value of g\n",
    "print(g)\n"
   ]
  },
  {
   "cell_type": "markdown",
   "id": "c43f135e-7b86-4932-97de-5eabbd16fd0e",
   "metadata": {},
   "source": [
    "# Use Dictionary"
   ]
  },
  {
   "cell_type": "code",
   "execution_count": 9,
   "id": "a711a9a1-4479-43fd-8581-82f37019bebd",
   "metadata": {},
   "outputs": [
    {
     "name": "stdout",
     "output_type": "stream",
     "text": [
      "g1: 10.096962760038528 m/s^2\n",
      "g2: 9.862674711789651 m/s^2\n"
     ]
    }
   ],
   "source": [
    "import numpy as np\n",
    "\n",
    "# Measurement data in dictionaries with length in meters (m) and time in seconds (s)\n",
    "meas1 = {'times': [16.7, 16.44, 16.83, 16.57, 16.65], 'L': 0.708}  # L in meters\n",
    "meas2 = {'times': [11.71, 11.94, 11.51, 11.64, 11.53], 'L': 0.34}  # L in meters\n",
    "\n",
    "def calc_g(t, L):\n",
    "    \"\"\"\n",
    "    Calculate gravitational acceleration (g) given times (t) and pendulum length (L).\n",
    "    Time is given in seconds and length in meters.\n",
    "    \n",
    "    :param t: List of oscillation times in seconds.\n",
    "    :param L: Length of the pendulum in meters.\n",
    "    :return: Gravitational acceleration in m/s^2.\n",
    "    \"\"\"\n",
    "    T_avg = sum(t) / len(t) / 10  # Avg period (s) for 10 oscillations\n",
    "    return (4 * np.pi**2 * L) / T_avg**2\n",
    "\n",
    "# Calculate g for each set of measurements\n",
    "g1 = calc_g(meas1['times'], meas1['L'])\n",
    "g2 = calc_g(meas2['times'], meas2['L'])\n",
    "\n",
    "print(f\"g1: {g1} m/s^2\")\n",
    "print(f\"g2: {g2} m/s^2\")"
   ]
  },
  {
   "cell_type": "code",
   "execution_count": null,
   "id": "0cb8f6a8-e8b9-4c8c-8ef7-08e2358db25d",
   "metadata": {},
   "outputs": [],
   "source": []
  }
 ],
 "metadata": {
  "kernelspec": {
   "display_name": "Python 3 (ipykernel)",
   "language": "python",
   "name": "python3"
  },
  "language_info": {
   "codemirror_mode": {
    "name": "ipython",
    "version": 3
   },
   "file_extension": ".py",
   "mimetype": "text/x-python",
   "name": "python",
   "nbconvert_exporter": "python",
   "pygments_lexer": "ipython3",
   "version": "3.11.7"
  }
 },
 "nbformat": 4,
 "nbformat_minor": 5
}
