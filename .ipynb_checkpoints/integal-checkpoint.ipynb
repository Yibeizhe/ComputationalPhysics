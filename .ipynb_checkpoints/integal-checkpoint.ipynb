{
 "cells": [
  {
   "cell_type": "markdown",
   "metadata": {},
   "source": [
    "# Monte Carlo\n",
    "## Estimate $\\pi$"
   ]
  },
  {
   "cell_type": "code",
   "execution_count": 7,
   "metadata": {},
   "outputs": [
    {
     "name": "stdout",
     "output_type": "stream",
     "text": [
      "Estimated value of π: 3.1413824\n"
     ]
    }
   ],
   "source": [
    "import random\n",
    "\n",
    "def estimate_pi(num_samples):\n",
    "    inside_circle_count = 0\n",
    "\n",
    "    for _ in range(num_samples):\n",
    "        # Generate random x and y values between -1 and 1\n",
    "        x = random.uniform(-1, 1)\n",
    "        y = random.uniform(-1, 1)\n",
    "\n",
    "        # Check if the point is inside the unit circle\n",
    "        if x**2 + y**2 <= 1:\n",
    "            inside_circle_count += 1\n",
    "\n",
    "    # Estimate π using the ratio of inside_circle_count to total samples\n",
    "    pi_estimate = 4 * inside_circle_count / num_samples\n",
    "    return pi_estimate\n",
    "\n",
    "# Estimate π using 10000000 sample points\n",
    "num_samples = 10000000\n",
    "pi_estimate = estimate_pi(num_samples)\n",
    "print(f\"Estimated value of π: {pi_estimate}\")\n"
   ]
  },
  {
   "cell_type": "code",
   "execution_count": 5,
   "metadata": {},
   "outputs": [
    {
     "name": "stdout",
     "output_type": "stream",
     "text": [
      "[False  True False False False  True  True  True  True False]\n",
      "5\n",
      "Estimated value of π: 2.0\n"
     ]
    }
   ],
   "source": [
    "import numpy as np\n",
    "\n",
    "def estimate_pi(num_samples):\n",
    "    # Generate random points within the unit square\n",
    "    x = np.random.uniform(-1, 1, num_samples)\n",
    "    y = np.random.uniform(-1, 1, num_samples)\n",
    "\n",
    "    # Count how many points fall inside the unit circle\n",
    "    inside_circle = (x**2 + y**2) <= 1\n",
    "    print(inside_circle)\n",
    "\n",
    "    # The ratio of the area of the circle to the area of the square is π/4\n",
    "    pi_estimate = 4 * np.sum(inside_circle) / num_samples\n",
    "    print(np.sum(inside_circle))\n",
    "    return pi_estimate\n",
    "\n",
    "# Estimate π using 10000 sample points\n",
    "num_samples = 10\n",
    "pi_estimate = estimate_pi(num_samples)\n",
    "print(f\"Estimated value of π: {pi_estimate}\")\n"
   ]
  },
  {
   "cell_type": "markdown",
   "metadata": {},
   "source": [
    "## Estimate $\\int_{0}^{1}\\frac{1}{\\sqrt{1+x^2}}dx$"
   ]
  },
  {
   "cell_type": "code",
   "execution_count": 8,
   "metadata": {},
   "outputs": [
    {
     "name": "stdout",
     "output_type": "stream",
     "text": [
      "0.8813050181731354\n"
     ]
    }
   ],
   "source": [
    "import numpy as np\n",
    "\n",
    "def integrand(x):\n",
    "    return 1 / np.sqrt(x**2 + 1)\n",
    "\n",
    "def monte_carlo(func, low, high, samples):\n",
    "    # Generate random samples\n",
    "    points = np.random.uniform(low, high, samples)\n",
    "    # Calculate integral estimate\n",
    "    return (high - low) * np.mean(func(points))\n",
    "\n",
    "# Set integration parameters\n",
    "low = 0\n",
    "high = 1\n",
    "samples = 10000\n",
    "\n",
    "# Perform integration\n",
    "integral = monte_carlo(integrand, low, high, samples)\n",
    "print(integral)"
   ]
  },
  {
   "cell_type": "code",
   "execution_count": 9,
   "metadata": {},
   "outputs": [
    {
     "name": "stdout",
     "output_type": "stream",
     "text": [
      "Estimated integral: 0.881138784162348\n"
     ]
    }
   ],
   "source": [
    "import random\n",
    "\n",
    "def f(x):\n",
    "    return 1 / (x**2 + 1)**0.5\n",
    "\n",
    "def monte_carlo_integration(func, a, b, num_samples):\n",
    "    sum_of_samples = 0\n",
    "    for _ in range(num_samples):\n",
    "        x = random.uniform(a, b)\n",
    "        sum_of_samples += func(x)\n",
    "    return (b - a) * sum_of_samples / num_samples\n",
    "\n",
    "a, b = 0, 1\n",
    "num_samples = 100000\n",
    "integral_estimate = monte_carlo_integration(f, a, b, num_samples)\n",
    "print(f\"Estimated integral: {integral_estimate}\")\n"
   ]
  },
  {
   "cell_type": "code",
   "execution_count": null,
   "metadata": {},
   "outputs": [],
   "source": []
  }
 ],
 "metadata": {
  "kernelspec": {
   "display_name": "Python 3",
   "language": "python",
   "name": "python3"
  },
  "language_info": {
   "codemirror_mode": {
    "name": "ipython",
    "version": 3
   },
   "file_extension": ".py",
   "mimetype": "text/x-python",
   "name": "python",
   "nbconvert_exporter": "python",
   "pygments_lexer": "ipython3",
   "version": "3.7.6"
  }
 },
 "nbformat": 4,
 "nbformat_minor": 4
}
