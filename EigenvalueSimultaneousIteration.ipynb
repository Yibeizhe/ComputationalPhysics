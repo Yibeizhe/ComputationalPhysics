{
 "cells": [
  {
   "cell_type": "markdown",
   "id": "56efd628-42e6-4471-bedd-9f0a1f80e7e8",
   "metadata": {},
   "source": [
    "# Simultaneous Iteration\n",
    "- Junfei Ding 5/23/2024 At GZU university"
   ]
  },
  {
   "cell_type": "markdown",
   "id": "f8e7a00e-35eb-4b8b-a694-2395098b2c7a",
   "metadata": {},
   "source": [
    "## The second dominant eigenvalue\n",
    "\n",
    "### Without Orthonormalizing each step 2023/11/16 00:26"
   ]
  },
  {
   "cell_type": "code",
   "execution_count": 10,
   "id": "2567f5be-9267-4f9e-b091-2f28b32338d9",
   "metadata": {},
   "outputs": [
    {
     "name": "stdout",
     "output_type": "stream",
     "text": [
      "First Eigenvalue and Eigenvector:\n",
      "11.059040160280997 [0.58032057 0.27319349 0.364364   0.67515348]\n",
      "Second Eigenvalue and Eigenvector:\n",
      "11.059043360085017 [-0.58033504 -0.27297514 -0.36387537 -0.67549281]\n"
     ]
    }
   ],
   "source": [
    "import numpy as np\n",
    "# Define the power method\n",
    "def powermethod(A, x, k=50, tol=1e-4):\n",
    "    x = x / np.linalg.norm(x)\n",
    "    lambda_old = 0\n",
    "    for i in range(k):\n",
    "        x = x / np.linalg.norm(x)\n",
    "        Ax = np.dot(A, x)\n",
    "        lambda_new = np.dot(x.T, Ax)\n",
    "        if np.abs(lambda_new - lambda_old) < tol:\n",
    "            return lambda_new, x\n",
    "        lambda_old = lambda_new\n",
    "        x = Ax\n",
    "    return lambda_new, x\n",
    "\n",
    "A = np.array([\n",
    "    [6, 2, 1, 3],\n",
    "    [2, 3, 1, 1],\n",
    "    [1, 1, 5, 2],\n",
    "    [3, 1, 2, 7]\n",
    "])\n",
    "# Random initial vector\n",
    "X = np.random.rand(A.shape[0], A.shape[1])\n",
    "\n",
    "# Compute the first eigenvalue and eigenvector\n",
    "lambda0, eigvec0 = powermethod(A, X[:,0])\n",
    "\n",
    "# Orthogonalize the second initial vector using the Gram-Schmidt process\n",
    "x1 = X[:,1] - np.dot(np.dot(X[:,1], eigvec0)/np.dot(eigvec0,eigvec0), eigvec0)\n",
    "x1 = x1 / np.linalg.norm(x1)\n",
    "\n",
    "# Compute the second eigenvalue and eigenvector\n",
    "lambda1, eigvec1 = powermethod(A, x1, k=500, tol=1e-6)\n",
    "\n",
    "# Output the results\n",
    "print(\"First Eigenvalue and Eigenvector:\")\n",
    "print(lambda0, eigvec0)\n",
    "print(\"Second Eigenvalue and Eigenvector:\")\n",
    "print(lambda1, eigvec1)"
   ]
  },
  {
   "cell_type": "markdown",
   "id": "60fa2126-aa69-464b-bee2-6696a2c212ce",
   "metadata": {},
   "source": [
    "# Second $\\lambda$: orthogonalization at each step\n",
    "- 2023/11/16"
   ]
  },
  {
   "cell_type": "code",
   "execution_count": 11,
   "id": "701cfb2b-9f8d-4f83-9411-91dfacf6a624",
   "metadata": {},
   "outputs": [
    {
     "name": "stdout",
     "output_type": "stream",
     "text": [
      "First Eigenvalue and Eigenvector:\n",
      "11.059043413929324 [0.5803905  0.27299329 0.36380798 0.67547412]\n",
      "Second Eigenvalue and Eigenvector:\n",
      "4.442151978904734 [-0.5979595  -0.17926113  0.76106356  0.17632963]\n",
      "First Eigenvalue and Eigenvector by numpy:\n",
      "11.059043413934548 [0.58038993 0.27299305 0.36380855 0.6754744 ]\n",
      "Second Eigenvalue and Eigenvector by numpy:\n",
      "4.44215197908746 [-0.59796432 -0.17926899  0.76105552  0.17634   ]\n"
     ]
    }
   ],
   "source": [
    "import numpy as np\n",
    "# Modified power method with higher precision and orthogonalization at each step\n",
    "def powermethod_orthogonalized(A, x, v, k=1000, tol=1e-10):\n",
    "    x = x / np.linalg.norm(x)\n",
    "    lambda_old = 0\n",
    "    for i in range(k):\n",
    "        # Orthogonalize if v is not a zero vector\n",
    "        if np.linalg.norm(v) > 0:\n",
    "            x = x - np.dot(v, x) / np.dot(v, v) * v\n",
    "        x = x / np.linalg.norm(x)\n",
    "\n",
    "        Ax = np.dot(A, x)\n",
    "        lambda_new = np.dot(x.T, Ax)\n",
    "        if np.abs(lambda_new - lambda_old) < tol:\n",
    "            return lambda_new, x\n",
    "        lambda_old = lambda_new\n",
    "        x = Ax\n",
    "    return lambda_new, x\n",
    "    \n",
    "# Define a symmetric matrix I with larger eigenvalue differences\n",
    "A = np.array([\n",
    "    [6, 2, 1, 3],\n",
    "    [2, 3, 1, 1],\n",
    "    [1, 1, 5, 2],\n",
    "    [3, 1, 2, 7]\n",
    "])\n",
    "\n",
    "# Random initial vector\n",
    "Vs = np.random.rand(A.shape[0], A.shape[1])\n",
    "\n",
    "# Compute the first eigenvalue and eigenvector\n",
    "lambda0_I, eigvec0_I = powermethod_orthogonalized(A, Vs[:,0], np.zeros(Vs[:,0].shape))\n",
    "\n",
    "# Use the power method with orthogonalization \n",
    "#against the first eigenvector to compute \n",
    "#the second principal eigenvalue\n",
    "lambda1_I, eigvec1_I = powermethod_orthogonalized(A, Vs[:,1], eigvec0_I)\n",
    "\n",
    "print(\"First Eigenvalue and Eigenvector:\")\n",
    "print(lambda0_I, eigvec0_I)\n",
    "print(\"Second Eigenvalue and Eigenvector:\")\n",
    "print(lambda1_I, eigvec1_I)\n",
    "\n",
    "\n",
    "eigvals, eigvecs = np.linalg.eig(A)\n",
    "idx = eigvals.argsort()[::-1]\n",
    "sorted_eigvals = eigvals[idx]\n",
    "sorted_eigvecs = eigvecs[:, idx]\n",
    "lambda0_np = sorted_eigvals[0]\n",
    "eigvec0_np = sorted_eigvecs[:, 0]\n",
    "lambda1_np = sorted_eigvals[1]\n",
    "eigvec1_np = sorted_eigvecs[:, 1]\n",
    "\n",
    "print(\"First Eigenvalue and Eigenvector by numpy:\")\n",
    "print(lambda0_np, eigvec0_np)\n",
    "print(\"Second Eigenvalue and Eigenvector by numpy:\")\n",
    "print(lambda1_np, eigvec1_np)\n"
   ]
  },
  {
   "cell_type": "code",
   "execution_count": null,
   "id": "dd791e6e-a1c8-4b5f-ada2-4a98a5fc969b",
   "metadata": {},
   "outputs": [],
   "source": []
  }
 ],
 "metadata": {
  "kernelspec": {
   "display_name": "Python 3 (ipykernel)",
   "language": "python",
   "name": "python3"
  },
  "language_info": {
   "codemirror_mode": {
    "name": "ipython",
    "version": 3
   },
   "file_extension": ".py",
   "mimetype": "text/x-python",
   "name": "python",
   "nbconvert_exporter": "python",
   "pygments_lexer": "ipython3",
   "version": "3.11.7"
  }
 },
 "nbformat": 4,
 "nbformat_minor": 5
}
