{
 "cells": [
  {
   "cell_type": "code",
   "execution_count": 2,
   "id": "866cf7e8-d8f4-4e02-ae68-5ce39bc9dd75",
   "metadata": {},
   "outputs": [
    {
     "name": "stdout",
     "output_type": "stream",
     "text": [
      "Converged in 30 iterations.\n",
      "Jacobi Solution: [ 1.  2. -1.  1.]\n",
      "Numpy Soultion: [ 1.  2. -1.  1.]\n"
     ]
    }
   ],
   "source": [
    "import numpy as np\n",
    "\n",
    "def jacobi(A, b, tolerance=1e-10, max_iterations=1000):\n",
    "    \"\"\"\n",
    "    Solves the linear system Ax = b via the Jacobi iterative method.\n",
    "    \n",
    "    Parameters:\n",
    "    - A : numpy.array\n",
    "        Coefficient matrix\n",
    "    - b : numpy.array\n",
    "        Right-hand side vector\n",
    "    - tolerance : float, optional\n",
    "        Convergence tolerance; the algorithm stops when the relative error is below this threshold\n",
    "    - max_iterations : int, optional\n",
    "        Maximum number of iterations\n",
    "\n",
    "    Returns:\n",
    "    - x : numpy.array\n",
    "        The solution vector\n",
    "    \"\"\"\n",
    "    n = len(b)\n",
    "    x = np.zeros_like(b)  # Initialize the solution vector with zeros\n",
    "    D = np.diag(A)  # Extract diagonal elements of A\n",
    "    R = A - np.diagflat(D)  # Remainder matrix (A - D)\n",
    "\n",
    "    for iteration in range(max_iterations):\n",
    "        x_new = (b - np.dot(R, x)) / D  # Perform the Jacobi iteration\n",
    "        \n",
    "        # Compute the relative error using the specified norm\n",
    "        relative_error = np.sum(np.abs((x_new - x) / x_new))\n",
    "        \n",
    "        if relative_error < tolerance:  # Check for convergence\n",
    "            print(f'Converged in {iteration+1} iterations.')\n",
    "            return x_new\n",
    "        \n",
    "        x = x_new  # Update x for the next iteration\n",
    "\n",
    "    print('Maximum iterations reached. Solution may not be accurate.')\n",
    "    return x\n",
    "\n",
    "# Example usage\n",
    "if __name__ == \"__main__\":\n",
    "    # Coefficient matrix A\n",
    "    A = np.array([[10., -1., 2., 0.],\n",
    "                  [-1., 11., -1., 3.],\n",
    "                  [2., -1., 10., -1.],\n",
    "                  [0.0, 3., -1., 8.]])\n",
    "    # Right-hand side vector b\n",
    "    b = np.array([6., 25., -11., 15.])\n",
    "\n",
    "    # Solve the system\n",
    "    x = jacobi(A, b)\n",
    "    print(\"Jacobi Solution:\", x)\n",
    "    x = np.linalg.solve(A, b)\n",
    "    print(\"Numpy Soultion:\",x)\n"
   ]
  },
  {
   "cell_type": "code",
   "execution_count": null,
   "id": "64c8a4e5-01c0-418f-927a-5a21fe772428",
   "metadata": {},
   "outputs": [],
   "source": []
  }
 ],
 "metadata": {
  "kernelspec": {
   "display_name": "Python 3 (ipykernel)",
   "language": "python",
   "name": "python3"
  },
  "language_info": {
   "codemirror_mode": {
    "name": "ipython",
    "version": 3
   },
   "file_extension": ".py",
   "mimetype": "text/x-python",
   "name": "python",
   "nbconvert_exporter": "python",
   "pygments_lexer": "ipython3",
   "version": "3.11.7"
  }
 },
 "nbformat": 4,
 "nbformat_minor": 5
}
