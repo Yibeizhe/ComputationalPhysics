{
 "cells": [
  {
   "cell_type": "markdown",
   "metadata": {},
   "source": [
    "# Jump  From sky\n",
    "## Final velocity"
   ]
  },
  {
   "cell_type": "code",
   "execution_count": 1,
   "metadata": {},
   "outputs": [
    {
     "data": {
      "text/plain": [
       "49.55531666817357"
      ]
     },
     "execution_count": 1,
     "metadata": {},
     "output_type": "execute_result"
    }
   ],
   "source": [
    "import numpy as np\n",
    "\n",
    "def f(v, m, Cd, S, rho):\n",
    "    g = 9.81  # Gravity acceleration, m/s^2\n",
    "    return m * g - 0.5 * Cd * S * rho * v**2\n",
    "\n",
    "def df(v, Cd, S, rho):\n",
    "    return -Cd * S * rho * v\n",
    "\n",
    "def newton_method(func, dfunc, initial_guess, m, Cd, S, rho, tolerance=1e-6, max_iterations=1000):\n",
    "    v = initial_guess\n",
    "    for _ in range(max_iterations):\n",
    "        delta = func(v, m, Cd, S, rho) / dfunc(v, Cd, S, rho)\n",
    "        v -= delta\n",
    "        if abs(delta) < tolerance:\n",
    "            break\n",
    "    return v\n",
    "\n",
    "# Parameters\n",
    "m = 80  # Mass, kg\n",
    "Cd = 1.2  # Drag coefficient\n",
    "S = 0.7  # Contact area, m^2\n",
    "h = 4000  # Altitude, m\n",
    "rho_0 = 1.225  # Air density at sea level, kg/m^3\n",
    "H = 8400  # Scale height, m\n",
    "rho = rho_0 * np.exp(-h/H)  # Air density\n",
    "\n",
    "# Calculate maximum velocity\n",
    "v_initial = 10  # Initial guess, m/s\n",
    "v_max = newton_method(f, df, v_initial, m, Cd, S, rho)\n",
    "v_max\n"
   ]
  },
  {
   "cell_type": "code",
   "execution_count": 2,
   "metadata": {},
   "outputs": [
    {
     "name": "stdout",
     "output_type": "stream",
     "text": [
      "Time to max speed: 13.61 seconds\n",
      "Height at max speed: 3484.05 meters\n",
      "Terminal velocity: 50.67 m/s\n"
     ]
    }
   ],
   "source": [
    "import numpy as np\n",
    "\n",
    "def rho(h):\n",
    "    \"\"\"Calculate air density based on altitude using a simplified atmospheric model.\"\"\"\n",
    "    return 1.225 * np.exp(-h / 10000)  # Simplified model, unit: kg/m^3\n",
    "\n",
    "def accel(v, m, g, Cd, A, h):\n",
    "    \"\"\"Calculate acceleration at a given velocity and altitude.\"\"\"\n",
    "    return g - 0.5 * Cd * A * rho(h) * v**2 / m\n",
    "\n",
    "def sim_fall(m, g, Cd, A, h0, v0, dt, t_max):\n",
    "    \"\"\"Simulate the fall of an object until it reaches terminal velocity.\"\"\"\n",
    "    t = 0\n",
    "    v = v0\n",
    "    h = h0\n",
    "    v_term = 0\n",
    "\n",
    "    while t < t_max:\n",
    "        a = accel(v, m, g, Cd, A, h)\n",
    "        v_new = v + a * dt\n",
    "        h -= v * dt  # Decrease as the object descends\n",
    "        t += dt\n",
    "\n",
    "        # Check if terminal velocity is reached (small change in velocity)\n",
    "        if abs(v_new - v) < 1e-3:\n",
    "            v_term = v_new\n",
    "            break\n",
    "\n",
    "        v = v_new\n",
    "\n",
    "    return t, h, v_term\n",
    "\n",
    "# Parameters\n",
    "m = 80.0    # Mass of the skydiver, unit: kg\n",
    "g = 9.81    # Gravity acceleration, unit: m/s^2\n",
    "Cd = 1.0    # Drag coefficient\n",
    "A = 0.7     # Contact area with air, unit: m^2\n",
    "h0 = 4000   # Initial height, unit: m\n",
    "v0 = 0      # Initial velocity, unit: m/s\n",
    "dt = 0.01   # Time step, unit: s\n",
    "t_max = 200 # Maximum simulation time, unit: s\n",
    "\n",
    "# Simulate the fall\n",
    "t_max_speed, h_max_speed, v_term = sim_fall(m, g, Cd, A, h0, v0, dt, t_max)\n",
    "print(f\"Time to max speed: {t_max_speed:.2f} seconds\")\n",
    "print(f\"Height at max speed: {h_max_speed:.2f} meters\")\n",
    "print(f\"Terminal velocity: {v_term:.2f} m/s\")"
   ]
  },
  {
   "cell_type": "code",
   "execution_count": null,
   "metadata": {},
   "outputs": [],
   "source": []
  }
 ],
 "metadata": {
  "kernelspec": {
   "display_name": "Python 3",
   "language": "python",
   "name": "python3"
  },
  "language_info": {
   "codemirror_mode": {
    "name": "ipython",
    "version": 3
   },
   "file_extension": ".py",
   "mimetype": "text/x-python",
   "name": "python",
   "nbconvert_exporter": "python",
   "pygments_lexer": "ipython3",
   "version": "3.7.6"
  }
 },
 "nbformat": 4,
 "nbformat_minor": 4
}
