{
 "cells": [
  {
   "cell_type": "markdown",
   "metadata": {},
   "source": [
    "# Interpolation\n",
    "- 2023/11/28"
   ]
  },
  {
   "cell_type": "code",
   "execution_count": 1,
   "metadata": {},
   "outputs": [
    {
     "data": {
      "image/png": "[encoded data removed]",
      "text/plain": [
       "<Figure size 432x288 with 1 Axes>"
      ]
     },
     "metadata": {
      "needs_background": "light"
     },
     "output_type": "display_data"
    }
   ],
   "source": [
    "import numpy as np\n",
    "import matplotlib.pyplot as plt\n",
    "\n",
    "# Define the linear function model\n",
    "def linear_model(x, a, b):\n",
    "    return a * x + b\n",
    "\n",
    "# Example data points\n",
    "x_data = np.array([1, 2, 3, 4, 5])\n",
    "y_data = np.array([2, 3, 4, 5, 6])\n",
    "\n",
    "# Compute the means of x_data and y_data\n",
    "x_mean = np.mean(x_data)\n",
    "y_mean = np.mean(y_data)\n",
    "\n",
    "# Calculate the slope (a) using the formula\n",
    "# a = sum((x_i - x_mean) * (y_i - y_mean)) / sum((x_i - x_mean)^2)\n",
    "a = np.sum((x_data - x_mean) * (y_data - y_mean)) / np.sum((x_data - x_mean)**2)\n",
    "\n",
    "# Calculate the intercept (b) using the formula\n",
    "# b = y_mean - a * x_mean\n",
    "b = y_mean - a * x_mean\n",
    "\n",
    "# Use the fitted parameters to calculate the model's y values\n",
    "x_fit = np.linspace(min(x_data), max(x_data), 100)\n",
    "y_fit = linear_model(x_fit, a, b)\n",
    "\n",
    "# Plot the data and the fitted curve\n",
    "plt.scatter(x_data, y_data, label='Data Points')\n",
    "plt.plot(x_fit, y_fit, color='red', label='Fitted Curve')\n",
    "plt.legend()\n",
    "plt.xlabel('x')\n",
    "plt.ylabel('y')\n",
    "plt.title('Linear Fit Example')\n",
    "plt.show()\n"
   ]
  },
  {
   "cell_type": "code",
   "execution_count": 12,
   "metadata": {},
   "outputs": [
    {
     "name": "stdout",
     "output_type": "stream",
     "text": [
      "[-1.00000000e+00 -9.74927912e-01 -9.00968868e-01 -7.81831482e-01\n",
      " -6.23489802e-01 -4.33883739e-01 -2.22520934e-01 -6.12323400e-17\n",
      "  2.22520934e-01  4.33883739e-01  6.23489802e-01  7.81831482e-01\n",
      "  9.00968868e-01  9.74927912e-01  1.00000000e+00]\n",
      "[14]\n",
      "[14]\n",
      "1.0 0.038461538461538464 0.038461538461538464\n"
     ]
    }
   ],
   "source": [
    "# Author: Junfei Ding, Guizhou University, Date: 2023-11-28\n",
    "\n",
    "import numpy as np\n",
    "\n",
    "def f(x):\n",
    "    return 1/(1 + 25*x**2)\n",
    "\n",
    "def generatedata(n,f,nodes=\"cheb\"):\n",
    "    if nodes==\"cheb\":\n",
    "        dataxs = -np.cos(np.linspace(0,np.pi,n))\n",
    "    else:\n",
    "        dataxs = np.linspace(-1,1,n)\n",
    "    datays = f(dataxs)\n",
    "    return dataxs, datays\n",
    "\n",
    "def weights(dataxs):\n",
    "    n = dataxs.size\n",
    "    ws = np.ones(n)\n",
    "    for k in range(n):\n",
    "        for j in range(n):\n",
    "            if j == k:\n",
    "                continue\n",
    "            ws[k] *= (dataxs[k]-dataxs[j])\n",
    "    return 1/ws\n",
    "\n",
    "def bary(dataxs,datays,ws,x):\n",
    "    k = np.where(x == dataxs)[0]\n",
    "    print(j)\n",
    "    if k.size == 0:\n",
    "        nume = np.sum(ws*datays/(x-dataxs))\n",
    "        denom = np.sum(ws/(x-dataxs))\n",
    "        val = nume/denom\n",
    "    else:\n",
    "        val = datays[k[0]]\n",
    "    return val\n",
    "\n",
    "if __name__ == '__main__':\n",
    "    dataxs, datays = generatedata(15, f)\n",
    "    print(dataxs)\n",
    "    ws = weights(dataxs)\n",
    "    x = 1.0; pofx = bary(dataxs, datays, ws, x)\n",
    "    print(x, pofx, f(x))\n"
   ]
  },
  {
   "cell_type": "code",
   "execution_count": 13,
   "metadata": {},
   "outputs": [
    {
     "name": "stdout",
     "output_type": "stream",
     "text": [
      "[3.04593186 0.5189044 ]\n",
      "[0.02927752 0.04896135]\n",
      "1.0991681955435215\n"
     ]
    }
   ],
   "source": [
    "import numpy as np\n",
    "\n",
    "def helpers(dataxs,datays,datasigs):\n",
    "    S = np.sum(1/datasigs**2)\n",
    "    Sx = np.sum(dataxs/datasigs**2)\n",
    "    Sy = np.sum(datays/datasigs**2)\n",
    "    Sxx = np.sum(dataxs**2/datasigs**2)\n",
    "    Sxy = np.sum(dataxs*datays/datasigs**2)\n",
    "    Del = S*Sxx - Sx**2\n",
    "    return S, Sx, Sy, Sxx, Sxy, Del\n",
    "\n",
    "def computecs(dataxs,datays,datasigs):\n",
    "    S,Sx,Sy,Sxx,Sxy,Del = helpers(dataxs,datays,datasigs)\n",
    "    cs = np.zeros(2); dcs = np.zeros(2)\n",
    "    cs[0] = (Sxx*Sy - Sx*Sxy)/Del\n",
    "    cs[1] = (S*Sxy - Sx*Sy)/Del\n",
    "    dcs[0] = np.sqrt(Sxx/Del)\n",
    "    dcs[1] = np.sqrt(S/Del)\n",
    "    return cs, dcs\n",
    "\n",
    "def computechisq(dataxs,datays,datasigs,cs):\n",
    "    chisq = np.sum((datays-cs[0]-cs[1]*dataxs)**2/datasigs**2)\n",
    "    return chisq\n",
    "\n",
    "dataxs = np.linspace(0,1,6)\n",
    "datays = np.array([3.085, 3.123, 3.224, 3.360, 3.438, 3.569])\n",
    "datasigs = np.array([0.048, 0.053, 0.02, 0.005, 0.023, 0.07])\n",
    "\n",
    "cs, dcs = computecs(dataxs, datays, datasigs)\n",
    "print(cs); print(dcs)\n",
    "chisq = computechisq(dataxs, datays, datasigs, cs)\n",
    "print(chisq/(dataxs.size - cs.size))"
   ]
  },
  {
   "cell_type": "code",
   "execution_count": null,
   "metadata": {},
   "outputs": [],
   "source": []
  }
 ],
 "metadata": {
  "kernelspec": {
   "display_name": "Python 3",
   "language": "python",
   "name": "python3"
  },
  "language_info": {
   "codemirror_mode": {
    "name": "ipython",
    "version": 3
   },
   "file_extension": ".py",
   "mimetype": "text/x-python",
   "name": "python",
   "nbconvert_exporter": "python",
   "pygments_lexer": "ipython3",
   "version": "3.7.6"
  }
 },
 "nbformat": 4,
 "nbformat_minor": 4
}
