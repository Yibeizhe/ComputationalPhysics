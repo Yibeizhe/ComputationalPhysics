{
 "cells": [
  {
   "cell_type": "code",
   "execution_count": 2,
   "id": "e8494bb9-4c6b-46da-83a2-2258e892e7de",
   "metadata": {},
   "outputs": [
    {
     "name": "stdout",
     "output_type": "stream",
     "text": [
      "平衡距离的近似值: 1.4359022753622444 米\n",
      "迭代次数: 4\n"
     ]
    }
   ],
   "source": [
    "# 定义给定值\n",
    "k = 100  # 弹簧常数，单位为N/m\n",
    "l = 1  # 弹簧的自然长度，单位为m\n",
    "q = 1e-4  # 电荷量，单位为C，根据最后的调整\n",
    "ke = 8.9875e9  # 库仑常数，单位为N·m²/C²\n",
    "epsilon = 1e-6  # 收敛标准\n",
    "\n",
    "# 定义非线性方程f(d)\n",
    "def f(d):\n",
    "    return k * (d - l) - (ke * q**2) / d**2\n",
    "\n",
    "# 定义方程的导数f'(d)\n",
    "def f_prime(d):\n",
    "    return k + 2 * (ke * q**2) / d**3\n",
    "\n",
    "# 实现牛顿法来找到根\n",
    "def newtons_method(d0, max_iter=1000):\n",
    "    d = d0\n",
    "    for i in range(max_iter):\n",
    "        f_val = f(d)\n",
    "        f_prime_val = f_prime(d)\n",
    "        if abs(f_val) < epsilon:  # 检查收敛性\n",
    "            return d, i  # 返回近似根和迭代次数\n",
    "        d -= f_val / f_prime_val  # 使用牛顿法更新d的值\n",
    "    return d, max_iter  # 如果未收敛，返回最后的估计和最大迭代次数\n",
    "\n",
    "# 初始猜测\n",
    "d0 = 2 * l\n",
    "\n",
    "# 使用更新的条件运行牛顿法\n",
    "d_approx_updated, iterations_updated = newtons_method(d0)\n",
    "\n",
    "print(f\"平衡距离的近似值: {d_approx_updated} 米\")\n",
    "print(f\"迭代次数: {iterations_updated}\")\n"
   ]
  },
  {
   "cell_type": "code",
   "execution_count": null,
   "id": "fd790545-7504-4726-aaed-e8f300226234",
   "metadata": {},
   "outputs": [],
   "source": []
  }
 ],
 "metadata": {
  "kernelspec": {
   "display_name": "Python 3 (ipykernel)",
   "language": "python",
   "name": "python3"
  },
  "language_info": {
   "codemirror_mode": {
    "name": "ipython",
    "version": 3
   },
   "file_extension": ".py",
   "mimetype": "text/x-python",
   "name": "python",
   "nbconvert_exporter": "python",
   "pygments_lexer": "ipython3",
   "version": "3.11.7"
  }
 },
 "nbformat": 4,
 "nbformat_minor": 5
}
