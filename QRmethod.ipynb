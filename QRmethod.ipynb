{
 "cells": [
  {
   "cell_type": "code",
   "execution_count": 1,
   "id": "69b83bd3-c85e-4701-a785-e0781ada1e6e",
   "metadata": {},
   "outputs": [
    {
     "name": "stdout",
     "output_type": "stream",
     "text": [
      "Eigenvalues of matrix A are:\n",
      "[11.05904341  4.44215198  3.71024009  1.78856452]\n"
     ]
    }
   ],
   "source": [
    "import numpy as np\n",
    "\n",
    "def qr_algorithm(A, num_iter=1000, tol=1e-10):\n",
    "    \"\"\"\n",
    "    Use the QR algorithm to compute the eigenvalues of matrix A\n",
    "    :param A: The matrix for which to compute the eigenvalues\n",
    "    :param num_iter: The maximum number of iterations\n",
    "    :param tol: Tolerance to determine convergence\n",
    "    :return: Eigenvalues\n",
    "    \"\"\"\n",
    "    n = A.shape[0]\n",
    "    Ak = np.copy(A)\n",
    "    \n",
    "    for _ in range(num_iter):\n",
    "        Q, R = np.linalg.qr(Ak)  # Perform QR decomposition\n",
    "        Ak = np.dot(R, Q)  # Update Ak by multiplying R and Q\n",
    "        \n",
    "        # Check if the off-diagonal elements are close to zero\n",
    "        off_diagonal = Ak - np.diag(np.diagonal(Ak))\n",
    "        if np.all(np.abs(off_diagonal) < tol):\n",
    "            break\n",
    "    \n",
    "    return np.diagonal(Ak)\n",
    "\n",
    "# Define matrix A\n",
    "A = np.array([\n",
    "    [6, 2, 1, 3],\n",
    "    [2, 3, 1, 1],\n",
    "    [1, 1, 5, 2],\n",
    "    [3, 1, 2, 7]\n",
    "])\n",
    "\n",
    "# Use the QR algorithm to compute eigenvalues\n",
    "eigvals = qr_algorithm(A)\n",
    "\n",
    "# Output the results\n",
    "print(\"Eigenvalues of matrix A are:\")\n",
    "print(eigvals)\n"
   ]
  },
  {
   "cell_type": "code",
   "execution_count": null,
   "id": "d3067406-3fb3-4016-ba72-d87e5234e7b6",
   "metadata": {},
   "outputs": [],
   "source": []
  }
 ],
 "metadata": {
  "kernelspec": {
   "display_name": "Python 3 (ipykernel)",
   "language": "python",
   "name": "python3"
  },
  "language_info": {
   "codemirror_mode": {
    "name": "ipython",
    "version": 3
   },
   "file_extension": ".py",
   "mimetype": "text/x-python",
   "name": "python",
   "nbconvert_exporter": "python",
   "pygments_lexer": "ipython3",
   "version": "3.11.7"
  }
 },
 "nbformat": 4,
 "nbformat_minor": 5
}
