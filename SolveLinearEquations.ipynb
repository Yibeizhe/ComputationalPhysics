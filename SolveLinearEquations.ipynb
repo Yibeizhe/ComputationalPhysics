{
 "cells": [
  {
   "cell_type": "markdown",
   "metadata": {},
   "source": [
    "# 1 Forward Substitution"
   ]
  },
  {
   "cell_type": "code",
   "execution_count": 2,
   "metadata": {},
   "outputs": [
    {
     "name": "stdout",
     "output_type": "stream",
     "text": [
      "[[1 0 0]\n",
      " [2 1 0]\n",
      " [3 4 1]]\n",
      "[ 1.  2. -4.]\n"
     ]
    }
   ],
   "source": [
    "# Author: Junfei Ding, Guizhou University, Date: 2023-10-9\n",
    "import numpy as np\n",
    "def forward_substitution(L, b):\n",
    "    \"\"\"\n",
    "    Perform forward substitution to solve\n",
    "    the lower triangular system Lx = b.\n",
    "    \n",
    "    Parameters:\n",
    "    - L: Lower triangular matrix (2D numpy array)\n",
    "    - b: Right-hand side vector (1D numpy array)\n",
    "    \n",
    "    Returns:\n",
    "    - x: Solution vector (1D numpy array)\n",
    "    \"\"\"\n",
    "    n = len(b)\n",
    "    x = np.zeros(n)\n",
    "    \n",
    "    for i in range(n):\n",
    "        x[i] = (b[i] - np.dot(L[i, :i], x[:i])) / L[i, i]\n",
    "    \n",
    "    return x\n",
    "if __name__==\"__main__\":\n",
    "    L = np.array([[1, 0, 0], [2, 1, 0], [3, 4, 1]])\n",
    "    print(L)\n",
    "    b = np.array([1, 4, 7])\n",
    "    x=forward_substitution(L,b)\n",
    "    print(x)"
   ]
  },
  {
   "cell_type": "markdown",
   "metadata": {},
   "source": [
    "# 2 Backward Substitution"
   ]
  },
  {
   "cell_type": "code",
   "execution_count": 8,
   "metadata": {},
   "outputs": [
    {
     "name": "stdout",
     "output_type": "stream",
     "text": [
      "[[1 2 3]\n",
      " [0 1 4]\n",
      " [0 0 1]]\n",
      "[ 12. -10.   3.]\n",
      "Help on function backward_substitution in module __main__:\n",
      "\n",
      "backward_substitution(U, b)\n",
      "    Perform backward substitution to solve \n",
      "    the upper triangular system Ux = b.\n",
      "    \n",
      "    Parameters:\n",
      "    - U: Upper triangular matrix (2D numpy array)\n",
      "    - b: Right-hand side vector (1D numpy array)\n",
      "    \n",
      "    Returns:\n",
      "    - x: Solution vector (1D numpy array)\n",
      "\n"
     ]
    }
   ],
   "source": [
    "# Author: Junfei Ding, Guizhou University, Date: 2023-10-9\n",
    "import numpy as np\n",
    "def backward_substitution(U, b):\n",
    "    \"\"\"\n",
    "    Perform backward substitution to solve \n",
    "    the upper triangular system Ux = b.\n",
    "    \n",
    "    Parameters:\n",
    "    - U: Upper triangular matrix (2D numpy array)\n",
    "    - b: Right-hand side vector (1D numpy array)\n",
    "    \n",
    "    Returns:\n",
    "    - x: Solution vector (1D numpy array)\n",
    "    \"\"\"\n",
    "    n = len(b)\n",
    "    x = np.zeros(n)\n",
    "    for i in reversed(range(n)):\n",
    "        x[i]=(b[i]-U[i, i+1:]@x[i+1:])/ U[i, i]\n",
    "    return x\n",
    "if __name__==\"__main__\":\n",
    "    U = np.array([[1, 2, 3], [0, 1, 4], [0, 0, 1]])\n",
    "    print(U)\n",
    "    b = np.array([1, 2, 3])\n",
    "    x=backward_substitution(U,b)\n",
    "    print(x)\n",
    "    help(backward_substitution)"
   ]
  },
  {
   "cell_type": "markdown",
   "metadata": {},
   "source": [
    "# 3 Gaussian Elimination"
   ]
  },
  {
   "cell_type": "code",
   "execution_count": 1,
   "metadata": {},
   "outputs": [
    {
     "name": "stdout",
     "output_type": "stream",
     "text": [
      "[[ 2.  1. -1.]\n",
      " [-3. -1.  2.]\n",
      " [-2.  1.  2.]]\n",
      "Solution: [ 2.  3. -1.]\n",
      "Numpy:  [ 2.  3. -1.]\n"
     ]
    }
   ],
   "source": [
    "import numpy as np\n",
    "def gaussian_elimination(Ai, bi):\n",
    "    \"\"\"\n",
    "    Solve system of linear equations using \n",
    "    Gaussian Elimination without pivoting.\n",
    "    \n",
    "    Parameters:\n",
    "    A (np.array): Coefficient matrix of size (n, n).\n",
    "    b (np.array): Vector of constant terms of size (n, ).\n",
    "    \n",
    "    Returns:\n",
    "    np.array: Solution vector of size (n, ).\n",
    "    \"\"\"\n",
    "    b=np.copy(bi)\n",
    "    A=np.copy(Ai)\n",
    "    n = len(b)\n",
    "\n",
    "    # Forward elimination\n",
    "    for i in range(n):\n",
    "        \n",
    "        # Zero out below current row\n",
    "        for k in range(i+1, n):\n",
    "            coeff = A[k][i] / A[i][i]\n",
    "            b[k] -= coeff * b[i]\n",
    "            A[k,i:]-=coeff * A[i,i:]\n",
    "    # Backward substitution\n",
    "    x=np.zeros(n)\n",
    "    for i in reversed(range(n)):\n",
    "        x[i]=(b[i]-A[i, i+1:] @ x[i+1:])/ A[i, i]\n",
    "    return x\n",
    "if __name__==\"__main__\":\n",
    "    A = np.array([[2, 1, -1], [-3, -1, 2], [-2, 1, 2]], dtype=float)\n",
    "    b = np.array([8, -11, -3], dtype=float)\n",
    "    x = gaussian_elimination(A, b)\n",
    "    print(A)\n",
    "    print(\"Solution:\", x)\n",
    "    x=np.linalg.solve(A,b)\n",
    "    print(\"Numpy: \",x)"
   ]
  },
  {
   "cell_type": "markdown",
   "metadata": {},
   "source": [
    "# 4 LU decompose"
   ]
  },
  {
   "cell_type": "code",
   "execution_count": 1,
   "metadata": {
    "scrolled": true
   },
   "outputs": [
    {
     "name": "stdout",
     "output_type": "stream",
     "text": [
      "A matix:\n",
      " [[3. 2. 1.]\n",
      " [2. 3. 1.]\n",
      " [1. 2. 3.]]\n",
      "Lower matix:\n",
      " [[1.         0.         0.        ]\n",
      " [0.66666667 1.         0.        ]\n",
      " [0.33333333 0.8        1.        ]]\n",
      "Upper matix:\n",
      " [[3.         2.         1.        ]\n",
      " [0.         1.66666667 0.33333333]\n",
      " [0.         0.         2.4       ]]\n"
     ]
    }
   ],
   "source": [
    "# Author: Junfei Ding, Guizhou University, Date: 2023-10-9\n",
    "import numpy as np\n",
    "def lu_decomposition(A):\n",
    "    \"\"\"\n",
    "    Perform LU decomposition on matrix A using numpy slicing.\n",
    "    \n",
    "    Parameters:\n",
    "    A (np.array): Square matrix of size (n, n).\n",
    "    \n",
    "    Returns:\n",
    "    L (np.array): Lower triangular matrix of size (n, n).\n",
    "    U (np.array): Upper triangular matrix of size (n, n).\n",
    "    \"\"\"\n",
    "    n = A.shape[0]\n",
    "    L = np.eye(n)\n",
    "    U = np.copy(A)\n",
    "    \n",
    "    for i in range(n):\n",
    "        for j in range(i+1, n):\n",
    "            coeff=U[j, i] / U[i, i]\n",
    "            L[j, i] = coeff\n",
    "            U[j, i:] -= coeff * U[i, i:]\n",
    "    \n",
    "    return L, U\n",
    "if __name__==\"__main__\":\n",
    "    A = np.array([[3, 2, 1], [2, 3, 1], [1, 2, 3]], dtype=float)\n",
    "    L, U = lu_decomposition(A)\n",
    "    print(\"A matix:\\n\",A)\n",
    "    print(\"Lower matix:\\n\",L)\n",
    "    print(\"Upper matix:\\n\",U)"
   ]
  },
  {
   "cell_type": "code",
   "execution_count": 2,
   "metadata": {},
   "outputs": [
    {
     "name": "stdout",
     "output_type": "stream",
     "text": [
      "Solution: [9.25 4.25 2.75]\n",
      "numpy:  [9.25 4.25 2.75]\n"
     ]
    }
   ],
   "source": [
    "# Author: Junfei Ding, Guizhou University, Date: 2023-10-9\n",
    "import numpy as np\n",
    "def lu_decomposition(A):\n",
    "    \"\"\"\n",
    "    Perform LU decomposition on matrix A using numpy slicing.\n",
    "    \n",
    "    Parameters:\n",
    "    A (np.array): Square matrix of size (n, n).\n",
    "    \n",
    "    Returns:\n",
    "    L (np.array): Lower triangular matrix of size (n, n).\n",
    "    U (np.array): Upper triangular matrix of size (n, n).\n",
    "    \"\"\"\n",
    "    n = A.shape[0]\n",
    "    L = np.eye(n)\n",
    "    U = np.copy(A)\n",
    "    \n",
    "    for i in range(n):\n",
    "        for j in range(i+1, n):\n",
    "            coeff=U[j, i] / U[i, i]\n",
    "            L[j, i] = coeff\n",
    "            U[j, i:] -= coeff * U[i, i:]\n",
    "    \n",
    "    return L, U\n",
    "\n",
    "\n",
    "L, U = lu_decomposition(A)\n",
    "    \n",
    "def lu_solve(L, U, b):\n",
    "    \"\"\"\n",
    "    Solve the system of linear equations Ax = b using LU decomposition and numpy slicing.\n",
    "    \n",
    "    Parameters:\n",
    "    L (np.array): Lower triangular matrix of size (n, n).\n",
    "    U (np.array): Upper triangular matrix of size (n, n).\n",
    "    b (np.array): Vector of constant terms of size (n, ).\n",
    "    \n",
    "    Returns:\n",
    "    x (np.array): Solution vector of size (n, ).\n",
    "    \"\"\"\n",
    "    n = len(b)\n",
    "    y = np.zeros(n)\n",
    "    x = np.zeros(n)\n",
    "    \n",
    "    # Forward substitution for Ly = b\n",
    "    for i in range(n):\n",
    "        y[i] = b[i] - np.dot(L[i, :i], y[:i])\n",
    "    \n",
    "    # Backward substitution for Ux = y\n",
    "    for i in reversed(range(n)):\n",
    "        x[i] = (y[i] - np.dot(U[i, i+1:], x[i+1:])) / U[i, i]\n",
    "    \n",
    "    return x\n",
    "\n",
    "# Example usage\n",
    "A = np.array([[3, 2, 1], [2, 3, 1], [1, 2, 3]], dtype=float)\n",
    "b = np.array([39, 34, 26], dtype=float)\n",
    "\n",
    "L, U = lu_decomposition(A)\n",
    "x = lu_solve(L, U, b)\n",
    "print(\"Solution:\", x)\n",
    "x=np.linalg.solve(A,b)\n",
    "print('numpy: ',x)"
   ]
  },
  {
   "cell_type": "markdown",
   "metadata": {},
   "source": [
    "# 3 Gaussian Pivot"
   ]
  },
  {
   "cell_type": "code",
   "execution_count": 3,
   "metadata": {},
   "outputs": [
    {
     "name": "stdout",
     "output_type": "stream",
     "text": [
      "Solution: [ 2.  3. -1.]\n",
      "Numpy:  [ 2.  3. -1.]\n"
     ]
    }
   ],
   "source": [
    "# Author: Junfei Ding, Guizhou University, Date: 2023-10-9\n",
    "import numpy as np\n",
    "def gaussian_pivot(Ai, bi):\n",
    "    \"\"\"\n",
    "    Solve system of linear equations using \n",
    "    Gaussian Elimination with pivoting.\n",
    "    \n",
    "    Parameters:\n",
    "    Ai (np.array): Coefficient matrix of size (n, n).\n",
    "    bi (np.array): Vector of constant terms of size (n, ).\n",
    "    \n",
    "    Returns:\n",
    "    np.array: Solution vector of size (n, ).\n",
    "    \"\"\"\n",
    "    b=np.copy(bi)\n",
    "    A=np.copy(Ai)\n",
    "    n = len(b)\n",
    "    # Forward elimination\n",
    "    for i in range(n):\n",
    "        max_row = i\n",
    "        for k in range(i+1, n):\n",
    "            if abs(A[k][i]) > abs(A[max_row][i]):\n",
    "                max_row = k\n",
    "                # Swap rows for pivot\n",
    "#         A[[i, max_row]] = A[[max_row, i]]\n",
    "#         b[i], b[max_row] = b[max_row], b[i]\n",
    "        # Swap rows for pivot\n",
    "        A[i,:], A[max_row,:] = A[max_row,:], A[i,:].copy()\n",
    "        b[i], b[max_row] = b[max_row], b[i]\n",
    "        # Zero out below current row\n",
    "        for k in range(i+1, n):\n",
    "            coeff = A[k][i] / A[i][i]\n",
    "            b[k] -= coeff * b[i]\n",
    "            A[k,i:]-=coeff * A[i,i:]\n",
    "    # Backward substitution\n",
    "    x=np.zeros(n)\n",
    "    for i in reversed(range(n)):\n",
    "        x[i]=(b[i]-np.dot(A[i, i+1:],x[i+1:]))/ A[i, i]\n",
    "    return x\n",
    "if __name__==\"__main__\":\n",
    "    A = np.array([[2, 1, -1], \n",
    "                  [-3, -1, 2], \n",
    "                  [-2, 1, 2]], dtype=float)\n",
    "    b = np.array([8, -11, -3], dtype=float)\n",
    "\n",
    "    x = gaussian_pivot(A, b)\n",
    "    print(\"Solution:\", x)\n",
    "    x=np.linalg.solve(A,b)\n",
    "    print(\"Numpy: \",x)"
   ]
  },
  {
   "cell_type": "code",
   "execution_count": null,
   "metadata": {},
   "outputs": [],
   "source": []
  }
 ],
 "metadata": {
  "kernelspec": {
   "display_name": "Python 3 (ipykernel)",
   "language": "python",
   "name": "python3"
  },
  "language_info": {
   "codemirror_mode": {
    "name": "ipython",
    "version": 3
   },
   "file_extension": ".py",
   "mimetype": "text/x-python",
   "name": "python",
   "nbconvert_exporter": "python",
   "pygments_lexer": "ipython3",
   "version": "3.11.7"
  }
 },
 "nbformat": 4,
 "nbformat_minor": 4
}
