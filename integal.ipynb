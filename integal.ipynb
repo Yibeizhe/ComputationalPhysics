{
 "cells": [
  {
   "cell_type": "code",
   "execution_count": 1,
   "metadata": {},
   "outputs": [
    {
     "name": "stdout",
     "output_type": "stream",
     "text": [
      "Rectangle Rule: 0.8815200041661683\n",
      "Trapezoid Rule: 0.8813735575567616\n",
      "Simpson's Rule: 0.8813735870195448\n"
     ]
    }
   ],
   "source": [
    "import numpy as np\n",
    "\n",
    "# Define the function to be integrated\n",
    "def f(x):\n",
    "    return 1 / np.sqrt(1 + x**2)\n",
    "\n",
    "# Define the integration interval\n",
    "a = 0\n",
    "b = 1\n",
    "n = 1000  # Number of subintervals\n",
    "\n",
    "# Rectangle Rule\n",
    "def rectangle_rule(f, a, b, n):\n",
    "    h = (b - a) / n\n",
    "    result = 0\n",
    "    for i in range(n):\n",
    "        result += f(a + i * h)\n",
    "    return result * h\n",
    "\n",
    "# Trapezoid Rule\n",
    "def trapezoid_rule(f, a, b, n):\n",
    "    h = (b - a) / n\n",
    "    result = (f(a) + f(b)) / 2\n",
    "    for i in range(1, n):\n",
    "        result += f(a + i * h)\n",
    "    return result * h\n",
    "\n",
    "# Simpson's Rule\n",
    "def simpsons_rule(f, a, b, n):\n",
    "    if n % 2 == 1:\n",
    "        n += 1  # Simpson's rule requires an even number of subintervals\n",
    "    h = (b - a) / n\n",
    "    result = f(a) + f(b)\n",
    "    for i in range(1, n):\n",
    "        if i % 2 == 0:\n",
    "            result += 2 * f(a + i * h)\n",
    "        else:\n",
    "            result += 4 * f(a + i * h)\n",
    "    return result * h / 3\n",
    "\n",
    "# Calculate the integral\n",
    "rect_result = rectangle_rule(f, a, b, n)\n",
    "trap_result = trapezoid_rule(f, a, b, n)\n",
    "simp_result = simpsons_rule(f, a, b, n)\n",
    "\n",
    "# Print the results\n",
    "print(f\"Rectangle Rule: {rect_result}\")\n",
    "print(f\"Trapezoid Rule: {trap_result}\")\n",
    "print(f\"Simpson's Rule: {simp_result}\")\n"
   ]
  },
  {
   "cell_type": "markdown",
   "metadata": {},
   "source": [
    "# Monte Carlo\n",
    "## Estimate $\\pi$"
   ]
  },
  {
   "cell_type": "code",
   "execution_count": 7,
   "metadata": {},
   "outputs": [
    {
     "name": "stdout",
     "output_type": "stream",
     "text": [
      "Estimated value of π: 3.1413824\n"
     ]
    }
   ],
   "source": [
    "import random\n",
    "\n",
    "def estimate_pi(num_samples):\n",
    "    inside_circle_count = 0\n",
    "\n",
    "    for _ in range(num_samples):\n",
    "        # Generate random x and y values between -1 and 1\n",
    "        x = random.uniform(-1, 1)\n",
    "        y = random.uniform(-1, 1)\n",
    "\n",
    "        # Check if the point is inside the unit circle\n",
    "        if x**2 + y**2 <= 1:\n",
    "            inside_circle_count += 1\n",
    "\n",
    "    # Estimate π using the ratio of inside_circle_count to total samples\n",
    "    pi_estimate = 4 * inside_circle_count / num_samples\n",
    "    return pi_estimate\n",
    "\n",
    "# Estimate π using 10000000 sample points\n",
    "num_samples = 10000000\n",
    "pi_estimate = estimate_pi(num_samples)\n",
    "print(f\"Estimated value of π: {pi_estimate}\")\n"
   ]
  },
  {
   "cell_type": "code",
   "execution_count": 5,
   "metadata": {},
   "outputs": [
    {
     "name": "stdout",
     "output_type": "stream",
     "text": [
      "[False  True False False False  True  True  True  True False]\n",
      "5\n",
      "Estimated value of π: 2.0\n"
     ]
    }
   ],
   "source": [
    "import numpy as np\n",
    "\n",
    "def estimate_pi(num_samples):\n",
    "    # Generate random points within the unit square\n",
    "    x = np.random.uniform(-1, 1, num_samples)\n",
    "    y = np.random.uniform(-1, 1, num_samples)\n",
    "\n",
    "    # Count how many points fall inside the unit circle\n",
    "    inside_circle = (x**2 + y**2) <= 1\n",
    "    print(inside_circle)\n",
    "\n",
    "    # The ratio of the area of the circle to the area of the square is π/4\n",
    "    pi_estimate = 4 * np.sum(inside_circle) / num_samples\n",
    "    print(np.sum(inside_circle))\n",
    "    return pi_estimate\n",
    "\n",
    "# Estimate π using 10000 sample points\n",
    "num_samples = 10\n",
    "pi_estimate = estimate_pi(num_samples)\n",
    "print(f\"Estimated value of π: {pi_estimate}\")\n"
   ]
  },
  {
   "cell_type": "markdown",
   "metadata": {},
   "source": [
    "## Estimate $\\int_{0}^{1}\\frac{1}{\\sqrt{1+x^2}}dx$"
   ]
  },
  {
   "cell_type": "code",
   "execution_count": 8,
   "metadata": {},
   "outputs": [
    {
     "name": "stdout",
     "output_type": "stream",
     "text": [
      "0.8813050181731354\n"
     ]
    }
   ],
   "source": [
    "import numpy as np\n",
    "\n",
    "def integrand(x):\n",
    "    return 1 / np.sqrt(x**2 + 1)\n",
    "\n",
    "def monte_carlo(func, low, high, samples):\n",
    "    # Generate random samples\n",
    "    points = np.random.uniform(low, high, samples)\n",
    "    # Calculate integral estimate\n",
    "    return (high - low) * np.mean(func(points))\n",
    "\n",
    "# Set integration parameters\n",
    "low = 0\n",
    "high = 1\n",
    "samples = 10000\n",
    "\n",
    "# Perform integration\n",
    "integral = monte_carlo(integrand, low, high, samples)\n",
    "print(integral)"
   ]
  },
  {
   "cell_type": "code",
   "execution_count": 9,
   "metadata": {},
   "outputs": [
    {
     "name": "stdout",
     "output_type": "stream",
     "text": [
      "Estimated integral: 0.881138784162348\n"
     ]
    }
   ],
   "source": [
    "import random\n",
    "\n",
    "def f(x):\n",
    "    return 1 / (x**2 + 1)**0.5\n",
    "\n",
    "def monte_carlo_integration(func, a, b, num_samples):\n",
    "    sum_of_samples = 0\n",
    "    for _ in range(num_samples):\n",
    "        x = random.uniform(a, b)\n",
    "        sum_of_samples += func(x)\n",
    "    return (b - a) * sum_of_samples / num_samples\n",
    "\n",
    "a, b = 0, 1\n",
    "num_samples = 100000\n",
    "integral_estimate = monte_carlo_integration(f, a, b, num_samples)\n",
    "print(f\"Estimated integral: {integral_estimate}\")\n"
   ]
  },
  {
   "cell_type": "code",
   "execution_count": 10,
   "metadata": {},
   "outputs": [
    {
     "data": {
      "text/plain": [
       "(0.8816627025783581, 0.0002926343771297105)"
      ]
     },
     "execution_count": 10,
     "metadata": {},
     "output_type": "execute_result"
    }
   ],
   "source": [
    "import random\n",
    "\n",
    "# Define the function to integrate\n",
    "def f(x):\n",
    "    return 1 / ((x**2 + 1) ** 0.5)\n",
    "\n",
    "# Monte Carlo integration with standard deviation\n",
    "def monte_carlo_integration_with_std_dev(func, a, b, num_samples):\n",
    "    sum_f = 0\n",
    "    sum_f_squared = 0\n",
    "    \n",
    "    for _ in range(num_samples):\n",
    "        x = random.uniform(a, b)\n",
    "        fx = func(x)\n",
    "        sum_f += fx\n",
    "        sum_f_squared += fx**2\n",
    "\n",
    "    # Calculate the mean value of f and f squared\n",
    "    mean_f = sum_f / num_samples\n",
    "    mean_f_squared = sum_f_squared / num_samples\n",
    "\n",
    "    # Estimate the value of the integral\n",
    "    integral_estimate = (b - a) * mean_f\n",
    "\n",
    "    # Estimate the standard deviation of the integral\n",
    "    std_dev = ((b - a) / num_samples)**0.5 * ((mean_f_squared - mean_f**2)**0.5)\n",
    "    \n",
    "    return integral_estimate, std_dev\n",
    "\n",
    "# Set the number of samples\n",
    "num_samples = 100000\n",
    "\n",
    "# Calculate the integral and standard deviation\n",
    "integral_estimate, standard_deviation = monte_carlo_integration_with_std_dev(f, 0, 1, num_samples)\n",
    "integral_estimate, standard_deviation"
   ]
  },
  {
   "cell_type": "code",
   "execution_count": 11,
   "metadata": {},
   "outputs": [
    {
     "name": "stdout",
     "output_type": "stream",
     "text": [
      "    100   0.873135430 0.009827018   0.880184046 0.001397861\n",
      "   1000   0.878313494 0.003014040   0.880653976 0.000439206\n",
      "  10000   0.879343920 0.000933506   0.881029489 0.000139055\n",
      " 100000   0.881289768 0.000292906   0.881400087 0.000043577\n",
      "1000000   0.881433836 0.000092589   0.881389786 0.000013775\n"
     ]
    }
   ],
   "source": [
    "import numpy as np\n",
    "\n",
    "def f(x):\n",
    "    return 1/np.sqrt(x**2 + 1)\n",
    "\n",
    "def montecarlo(f,a,b,n,option=\"uniform\"):\n",
    "    np.random.seed(314159)\n",
    "    us = np.random.uniform(a, b, n)\n",
    "\n",
    "    if option==\"uniform\":\n",
    "        fs = f(us)\n",
    "    else:\n",
    "        c0 = 4 - 2*np.sqrt(2)\n",
    "        c1 = -6 + 4*np.sqrt(2)\n",
    "        xs = (-c0 + np.sqrt(2*c1*us + c0**2))/c1\n",
    "        fs = f(xs)/(c0 + c1*xs)\n",
    "\n",
    "    fbar, err = stats(fs)\n",
    "    return (b-a)*fbar, (b-a)*err\n",
    "\n",
    "def stats(fs):\n",
    "    n = fs.size\n",
    "    fbar = np.sum(fs)/n\n",
    "    fsq = np.sum(fs**2)/n\n",
    "    varfbar = (fsq - fbar**2)/(n - 1)\n",
    "    return fbar, np.sqrt(varfbar)\n",
    "\n",
    "if __name__ == '__main__':\n",
    "    for n in 10**np.arange(2,7):\n",
    "        avu, erru = montecarlo(f, 0., 1., n)\n",
    "        avi, erri = montecarlo(f, 0., 1., n, option=\"is\")\n",
    "        rowf = \"{0:7d}   {1:1.9f} {2:1.9f}   {3:1.9f} {4:1.9f}\"\n",
    "        print(rowf.format(n, avu, erru, avi, erri))\n"
   ]
  },
  {
   "cell_type": "code",
   "execution_count": 2,
   "metadata": {},
   "outputs": [
    {
     "name": "stdout",
     "output_type": "stream",
     "text": [
      "[-0.7306011298185464, -0.280454712941507, 0.014189008427868743, 0.6508251161574208, -1.2426083551475393, -1.2426083551475393, -1.7659791788140942, -1.7659791788140942, -1.953428216478871, -2.75238871301697]\n"
     ]
    }
   ],
   "source": [
    "import numpy as np\n",
    "\n",
    "def target_distribution(x):\n",
    "    # 这是一个目标分布的例子，我们选择正态分布\n",
    "    return np.exp(-x**2 / 2)\n",
    "\n",
    "def metropolis_hastings(starting_point, steps, target_pdf):\n",
    "    current_point = starting_point\n",
    "    samples = []\n",
    "\n",
    "    for _ in range(steps):\n",
    "        # 生成候选点\n",
    "        candidate_point = np.random.normal(current_point, 1.0)\n",
    "        # 计算接受概率\n",
    "        accept_prob = min(1, target_pdf(candidate_point) / target_pdf(current_point))\n",
    "        # 决定是否接受候选点\n",
    "        if np.random.rand() < accept_prob:\n",
    "            current_point = candidate_point\n",
    "        samples.append(current_point)\n",
    "\n",
    "    return samples\n",
    "\n",
    "# 使用Metropolis-Hastings算法进行抽样\n",
    "samples = metropolis_hastings(0.0, 10, target_distribution)\n",
    "print(samples)"
   ]
  },
  {
   "cell_type": "code",
   "execution_count": null,
   "metadata": {},
   "outputs": [],
   "source": []
  }
 ],
 "metadata": {
  "kernelspec": {
   "display_name": "Python 3 (ipykernel)",
   "language": "python",
   "name": "python3"
  },
  "language_info": {
   "codemirror_mode": {
    "name": "ipython",
    "version": 3
   },
   "file_extension": ".py",
   "mimetype": "text/x-python",
   "name": "python",
   "nbconvert_exporter": "python",
   "pygments_lexer": "ipython3",
   "version": "3.11.7"
  }
 },
 "nbformat": 4,
 "nbformat_minor": 4
}
