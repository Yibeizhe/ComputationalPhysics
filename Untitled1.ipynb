{
 "cells": [
  {
   "cell_type": "markdown",
   "metadata": {},
   "source": [
    "# QR method"
   ]
  },
  {
   "cell_type": "code",
   "execution_count": 1,
   "metadata": {
    "scrolled": true
   },
   "outputs": [
    {
     "name": "stdout",
     "output_type": "stream",
     "text": [
      "Matrix Q (orthogonal):\n",
      "[[ 0.93704257 -0.34242719 -0.06851887]\n",
      " [ 0.31234752  0.90957224 -0.27407548]\n",
      " [ 0.15617376  0.2354187   0.95926419]]\n",
      "Matrix R (upper triangular):\n",
      "[[6.40312424 2.96730148 1.40556386]\n",
      " [0.         2.27928102 0.80256374]\n",
      " [0.         0.         0.61666984]]\n",
      "np.dot(Q,R) is:\n",
      " [[6. 2. 1.]\n",
      " [2. 3. 1.]\n",
      " [1. 1. 1.]]\n"
     ]
    }
   ],
   "source": [
    "# Author: Junfei Ding, Guizhou University, Date: 2023-11-06\n",
    "import numpy as np\n",
    "# from GramSchmidt import is_orthogonal\n",
    "def QR(A):\n",
    "    \"\"\"\n",
    "    Perform QR decomposition of matrix A using the Gram-Schmidt process.\n",
    "    Args:\n",
    "    - A (numpy.ndarray): The matrix to be decomposed.\n",
    "    Returns:\n",
    "    - Q (numpy.ndarray): The orthogonal matrix.\n",
    "    - R (numpy.ndarray): The upper triangular matrix.\n",
    "    \"\"\"\n",
    "    m, n = A.shape\n",
    "    Q = np.zeros((m, n))\n",
    "    R = np.zeros((n, n))\n",
    "\n",
    "    for j in range(n):\n",
    "        # Start with the j-th column of A\n",
    "        v = A[:, j]\n",
    "        for i in range(j):\n",
    "            # Compute the dot product\n",
    "            R[i, j] = np.dot(Q[:, i], A[:, j])\n",
    "            # Subtract the projection of A[:, j]\n",
    "            # onto the i-th column of Q from v\n",
    "            v = v - R[i, j] * Q[:, i]\n",
    "\n",
    "        # Compute the norm of vector v\n",
    "        R[j, j] = np.linalg.norm(v)\n",
    "        # Normalize the vector to get the j-th column of Q\n",
    "        Q[:, j] = v / R[j, j]\n",
    "    return Q, R\n",
    "\n",
    "if __name__==\"__main__\":\n",
    "\n",
    "    # Example usage:\n",
    "    A = np.array([[6, 2, 1],\n",
    "                  [2, 3, 1],\n",
    "                  [1, 1, 1]])\n",
    "\n",
    "    Q, R = QR(A)\n",
    "    print(\"Matrix Q (orthogonal):\")\n",
    "    print(Q)\n",
    "#     print(\"Is Q orthogonal?\",is_orthogonal(Q))\n",
    "    print(\"Matrix R (upper triangular):\")\n",
    "    print(R)\n",
    "    print(\"np.dot(Q,R) is:\\n\",np.dot(Q,R))\n"
   ]
  },
  {
   "cell_type": "code",
   "execution_count": 3,
   "metadata": {},
   "outputs": [
    {
     "name": "stdout",
     "output_type": "stream",
     "text": [
      "[[ 7.28799214e+00  6.29778369e-11 -4.06109932e-15]\n",
      " [ 6.29763127e-11  2.13307448e+00  2.22105829e-12]\n",
      " [ 1.23493641e-22  2.22190671e-12  5.78933386e-01]]\n",
      "[7.28799214 2.13307448 0.57893339]\n"
     ]
    }
   ],
   "source": [
    "A = np.array([[6, 2, 1],\n",
    "              [2, 3, 1],\n",
    "              [1, 1, 1]])\n",
    "def qrmethod(Ai,k=20):\n",
    "    A=np.copy(Ai)\n",
    "    for i in range(k):\n",
    "        Q,R=QR(A)\n",
    "        A=np.dot(R,Q)\n",
    "    print(A)\n",
    "    return np.diag(A)\n",
    "eigenvalues=qrmethod(A)\n",
    "print(eigenvalues)"
   ]
  },
  {
   "cell_type": "code",
   "execution_count": 6,
   "metadata": {},
   "outputs": [
    {
     "name": "stdout",
     "output_type": "stream",
     "text": [
      "[[ 2.08491890e+01  1.13942971e-12 -1.18914784e-15]\n",
      " [ 1.13949842e-12  1.57278350e+01 -6.75416827e-16]\n",
      " [ 1.03164390e-39  2.01696849e-27  8.42297601e+00]]\n",
      "[20.84918897 15.72783503  8.42297601]\n"
     ]
    }
   ],
   "source": [
    "# Define matrix A\n",
    "def qrmethod(Ai,k=100):\n",
    "    A=np.copy(Ai)\n",
    "    for i in range(k):\n",
    "        Q,R=QR(A)\n",
    "        A=np.dot(R,Q)\n",
    "    lambdas=np.diag(A)\n",
    "    print(A)\n",
    "    return lambdas\n",
    "A = np.array([\n",
    "    [20, 1, 2],\n",
    "    [1, 15, 3],\n",
    "    [2, 3, 10]\n",
    "])\n",
    "lambdas=qrmethod(A)\n",
    "print(lambdas)"
   ]
  },
  {
   "cell_type": "code",
   "execution_count": null,
   "metadata": {},
   "outputs": [],
   "source": []
  }
 ],
 "metadata": {
  "kernelspec": {
   "display_name": "Python 3",
   "language": "python",
   "name": "python3"
  },
  "language_info": {
   "codemirror_mode": {
    "name": "ipython",
    "version": 3
   },
   "file_extension": ".py",
   "mimetype": "text/x-python",
   "name": "python",
   "nbconvert_exporter": "python",
   "pygments_lexer": "ipython3",
   "version": "3.7.6"
  }
 },
 "nbformat": 4,
 "nbformat_minor": 4
}
